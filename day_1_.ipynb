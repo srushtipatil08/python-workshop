{
  "nbformat": 4,
  "nbformat_minor": 0,
  "metadata": {
    "colab": {
      "provenance": [],
      "authorship_tag": "ABX9TyOPEZVPF0y2KzzT26wUSatq",
      "include_colab_link": true
    },
    "kernelspec": {
      "name": "python3",
      "display_name": "Python 3"
    },
    "language_info": {
      "name": "python"
    }
  },
  "cells": [
    {
      "cell_type": "markdown",
      "metadata": {
        "id": "view-in-github",
        "colab_type": "text"
      },
      "source": [
        "<a href=\"https://colab.research.google.com/github/srushtipatil08/python-workshop/blob/main/day_1_.ipynb\" target=\"_parent\"><img src=\"https://colab.research.google.com/assets/colab-badge.svg\" alt=\"Open In Colab\"/></a>"
      ]
    },
    {
      "cell_type": "markdown",
      "source": [
        "1. Import Libraries"
      ],
      "metadata": {
        "id": "CUyzBrh_8UQR"
      }
    },
    {
      "cell_type": "code",
      "source": [
        "import re # Importing regular expression module"
      ],
      "metadata": {
        "id": "ahhd06d48dLq"
      },
      "execution_count": 1,
      "outputs": []
    },
    {
      "cell_type": "markdown",
      "source": [
        "2. Raw Strings"
      ],
      "metadata": {
        "id": "X5-pSyHs8lxm"
      }
    },
    {
      "cell_type": "code",
      "source": [
        "print(\"Hello\\nWorld\") #What if r is not used before string"
      ],
      "metadata": {
        "colab": {
          "base_uri": "https://localhost:8080/"
        },
        "id": "8wwiviUE8o_Y",
        "outputId": "e8fa1cd1-4a53-457d-c066-b4a0e33e1e50"
      },
      "execution_count": 2,
      "outputs": [
        {
          "output_type": "stream",
          "name": "stdout",
          "text": [
            "Hello\n",
            "World\n"
          ]
        }
      ]
    },
    {
      "cell_type": "code",
      "source": [
        "print(r\"Hello\\nWorld\")  #What if r is used befour string"
      ],
      "metadata": {
        "colab": {
          "base_uri": "https://localhost:8080/"
        },
        "id": "mWZU8TPr8rWf",
        "outputId": "8c1154d8-e81b-4c24-b202-3cfb109b6d58"
      },
      "execution_count": 3,
      "outputs": [
        {
          "output_type": "stream",
          "name": "stdout",
          "text": [
            "Hello\\nWorld\n"
          ]
        }
      ]
    },
    {
      "cell_type": "markdown",
      "source": [
        "3. Search Operations"
      ],
      "metadata": {
        "id": "nVJbzZ_z88hZ"
      }
    },
    {
      "cell_type": "code",
      "source": [
        "test_string = \"123abc456789abc123ABC\"  #sample string"
      ],
      "metadata": {
        "id": "Ds9SVL-F9B7P"
      },
      "execution_count": 4,
      "outputs": []
    },
    {
      "cell_type": "code",
      "source": [
        "# re.match()"
      ],
      "metadata": {
        "id": "tMfpFIMF9O6N"
      },
      "execution_count": 5,
      "outputs": []
    },
    {
      "cell_type": "code",
      "source": [
        "pattern = re.compile(r\"abc\")  #compiling\n",
        "\n",
        "match = re.match(pattern, test_string) #match gives Match object only if pattern is found at beginning else None"
      ],
      "metadata": {
        "id": "dI9JHgU49uhb"
      },
      "execution_count": 7,
      "outputs": []
    },
    {
      "cell_type": "code",
      "source": [
        "print(match)"
      ],
      "metadata": {
        "colab": {
          "base_uri": "https://localhost:8080/"
        },
        "id": "pfuzS2kz95b6",
        "outputId": "7084cb7f-74db-4b7b-ef94-6070f5010c6b"
      },
      "execution_count": 8,
      "outputs": [
        {
          "output_type": "stream",
          "name": "stdout",
          "text": [
            "None\n"
          ]
        }
      ]
    },
    {
      "cell_type": "code",
      "source": [
        "pattern = re.compile(r\"123\")\n",
        "\n",
        "match = re.match(pattern, test_string)  #match gives match object only if pattern is found at beginning else None\n",
        "print(match)"
      ],
      "metadata": {
        "colab": {
          "base_uri": "https://localhost:8080/"
        },
        "id": "vlGGi08R97ux",
        "outputId": "ff2216b8-8829-405f-a081-bcacd703106d"
      },
      "execution_count": 9,
      "outputs": [
        {
          "output_type": "stream",
          "name": "stdout",
          "text": [
            "<re.Match object; span=(0, 3), match='123'>\n"
          ]
        }
      ]
    },
    {
      "cell_type": "code",
      "source": [
        "match.span()  #span()method of match object which gives a tuple of start and (end+1) indices"
      ],
      "metadata": {
        "colab": {
          "base_uri": "https://localhost:8080/"
        },
        "id": "9HqaQW35-lXD",
        "outputId": "e3b3a2e1-4739-4539-9b57-5c78af4d794d"
      },
      "execution_count": 10,
      "outputs": [
        {
          "output_type": "execute_result",
          "data": {
            "text/plain": [
              "(0, 3)"
            ]
          },
          "metadata": {},
          "execution_count": 10
        }
      ]
    },
    {
      "cell_type": "code",
      "source": [
        "start_index, end_index = match.span()  #tuple unwrapping\n",
        "\n",
        "test_string[start_index:end_index]  #slicing"
      ],
      "metadata": {
        "colab": {
          "base_uri": "https://localhost:8080/",
          "height": 36
        },
        "id": "vgsQAnVIKBXM",
        "outputId": "ac5653a2-bf45-4cf3-e2ef-650539e51150"
      },
      "execution_count": 11,
      "outputs": [
        {
          "output_type": "execute_result",
          "data": {
            "text/plain": [
              "'123'"
            ],
            "application/vnd.google.colaboratory.intrinsic+json": {
              "type": "string"
            }
          },
          "metadata": {},
          "execution_count": 11
        }
      ]
    },
    {
      "cell_type": "code",
      "source": [
        "match.start()  #start() methid of object returnss starting index"
      ],
      "metadata": {
        "colab": {
          "base_uri": "https://localhost:8080/"
        },
        "id": "1gAphn1SKiTJ",
        "outputId": "db219ed2-0b75-4e97-ffef-590531914f41"
      },
      "execution_count": 12,
      "outputs": [
        {
          "output_type": "execute_result",
          "data": {
            "text/plain": [
              "0"
            ]
          },
          "metadata": {},
          "execution_count": 12
        }
      ]
    },
    {
      "cell_type": "code",
      "source": [
        "match.end()  #end() methid of match object returns ending +1 index"
      ],
      "metadata": {
        "colab": {
          "base_uri": "https://localhost:8080/"
        },
        "id": "bMNLQGeeKrMP",
        "outputId": "90c918db-dd0e-4d29-f002-50a986f89dad"
      },
      "execution_count": 13,
      "outputs": [
        {
          "output_type": "execute_result",
          "data": {
            "text/plain": [
              "3"
            ]
          },
          "metadata": {},
          "execution_count": 13
        }
      ]
    },
    {
      "cell_type": "code",
      "source": [
        "match.group()  #group() method of match object return the search pattern or we can say compile object used to search"
      ],
      "metadata": {
        "colab": {
          "base_uri": "https://localhost:8080/",
          "height": 36
        },
        "id": "zN-1YmryLDxw",
        "outputId": "269e80c8-05fd-479d-8136-a0e8440ce8c8"
      },
      "execution_count": 14,
      "outputs": [
        {
          "output_type": "execute_result",
          "data": {
            "text/plain": [
              "'123'"
            ],
            "application/vnd.google.colaboratory.intrinsic+json": {
              "type": "string"
            }
          },
          "metadata": {},
          "execution_count": 14
        }
      ]
    },
    {
      "cell_type": "code",
      "source": [
        "# re.search() --> returns only the first occuurance if found as a match object"
      ],
      "metadata": {
        "id": "uyFlZxZHLYjt"
      },
      "execution_count": 15,
      "outputs": []
    },
    {
      "cell_type": "code",
      "source": [
        "test_string"
      ],
      "metadata": {
        "colab": {
          "base_uri": "https://localhost:8080/",
          "height": 36
        },
        "id": "WJzR-Q9iLqwP",
        "outputId": "a39c1f3c-d513-455f-fbce-02f45bcf99ad"
      },
      "execution_count": 17,
      "outputs": [
        {
          "output_type": "execute_result",
          "data": {
            "text/plain": [
              "'123abc456789abc123ABC'"
            ],
            "application/vnd.google.colaboratory.intrinsic+json": {
              "type": "string"
            }
          },
          "metadata": {},
          "execution_count": 17
        }
      ]
    },
    {
      "cell_type": "code",
      "source": [
        "pattern = re.compile(r\"abc\")\n",
        "\n",
        "match = re.search(pattern, test_string) # give pattern and memory reference of text/string from where to search\n",
        "match"
      ],
      "metadata": {
        "colab": {
          "base_uri": "https://localhost:8080/"
        },
        "id": "dKUb9rBHMEH0",
        "outputId": "95884f89-5ed0-47a2-db56-ddf547d7a0c2"
      },
      "execution_count": 19,
      "outputs": [
        {
          "output_type": "execute_result",
          "data": {
            "text/plain": [
              "<re.Match object; span=(3, 6), match='abc'>"
            ]
          },
          "metadata": {},
          "execution_count": 19
        }
      ]
    },
    {
      "cell_type": "code",
      "source": [
        "match.group() #group() method of match objecct return the search pattern or we can say compile object used to search"
      ],
      "metadata": {
        "colab": {
          "base_uri": "https://localhost:8080/",
          "height": 36
        },
        "id": "RhTUkJVEMI6D",
        "outputId": "0714f9b1-65a5-4f3e-aba9-a5276d438748"
      },
      "execution_count": 20,
      "outputs": [
        {
          "output_type": "execute_result",
          "data": {
            "text/plain": [
              "'abc'"
            ],
            "application/vnd.google.colaboratory.intrinsic+json": {
              "type": "string"
            }
          },
          "metadata": {},
          "execution_count": 20
        }
      ]
    },
    {
      "cell_type": "code",
      "source": [
        "start_index, end_index = match.span()\n",
        "\n",
        "test_string[start_index:end_index]"
      ],
      "metadata": {
        "colab": {
          "base_uri": "https://localhost:8080/",
          "height": 36
        },
        "id": "hwt0DAkXMbi8",
        "outputId": "051fd168-1e58-42ad-80da-ad47a200e7a0"
      },
      "execution_count": 23,
      "outputs": [
        {
          "output_type": "execute_result",
          "data": {
            "text/plain": [
              "'abc'"
            ],
            "application/vnd.google.colaboratory.intrinsic+json": {
              "type": "string"
            }
          },
          "metadata": {},
          "execution_count": 23
        }
      ]
    },
    {
      "cell_type": "code",
      "source": [
        "# re.findall() --> returns LIST of all occurence, we cant use start end span group on this"
      ],
      "metadata": {
        "id": "AT_NPF6hM5Z2"
      },
      "execution_count": null,
      "outputs": []
    },
    {
      "cell_type": "code",
      "source": [
        "pattern = re.compile(r\"abc\")\n",
        "\n",
        "matches = re.findall(pattern, test_string)\n",
        "matches\n",
        "#matches.span()"
      ],
      "metadata": {
        "colab": {
          "base_uri": "https://localhost:8080/"
        },
        "id": "UwUrhOK3M_g7",
        "outputId": "2b9e7665-80a7-4345-88f7-b6ef23101c1e"
      },
      "execution_count": 24,
      "outputs": [
        {
          "output_type": "execute_result",
          "data": {
            "text/plain": [
              "['abc', 'abc']"
            ]
          },
          "metadata": {},
          "execution_count": 24
        }
      ]
    },
    {
      "cell_type": "code",
      "source": [
        "# re.finditer() --> returns ITERABLE MATCH object , we can use start end spathis"
      ],
      "metadata": {
        "id": "9fBm4iXASdIw"
      },
      "execution_count": 25,
      "outputs": []
    },
    {
      "cell_type": "code",
      "source": [
        "pattern = re.compile(r\"abc\")\n",
        "\n",
        "matches = re.finditer(pattern, test_string)\n",
        "\n",
        "for match in matches:\n",
        "  print(match)\n",
        "  #print(match.span())\n"
      ],
      "metadata": {
        "colab": {
          "base_uri": "https://localhost:8080/"
        },
        "id": "eD9WLAZHSlyu",
        "outputId": "782553ee-2a75-4f09-9216-7a4140623135"
      },
      "execution_count": 26,
      "outputs": [
        {
          "output_type": "stream",
          "name": "stdout",
          "text": [
            "<re.Match object; span=(3, 6), match='abc'>\n",
            "<re.Match object; span=(12, 15), match='abc'>\n"
          ]
        }
      ]
    },
    {
      "cell_type": "markdown",
      "source": [
        "4. Meta Characters"
      ],
      "metadata": {
        "id": "_5fhAxTHTJFk"
      }
    },
    {
      "cell_type": "code",
      "source": [
        "test_string_1 = \"123abc.456789abc123defGHI.ABC \\n xyz345WXYZ\""
      ],
      "metadata": {
        "id": "SXUyPr8uTMN3"
      },
      "execution_count": 27,
      "outputs": []
    },
    {
      "cell_type": "code",
      "source": [
        "test_string_2 = \"The cat sat on the mat with a bat and a hat.\""
      ],
      "metadata": {
        "id": "xOud5IsETOTA"
      },
      "execution_count": 28,
      "outputs": []
    },
    {
      "cell_type": "code",
      "source": [
        "text = \"\"\"Hello World!\n",
        "This is a test.\n",
        "Hello again!\n",
        "Python is fun.\n",
        "Hello Python\"\"\""
      ],
      "metadata": {
        "id": "CJ-IfqjATRmM"
      },
      "execution_count": 29,
      "outputs": []
    },
    {
      "cell_type": "markdown",
      "source": [
        "4.1 dot(.)"
      ],
      "metadata": {
        "id": "XMKcgk09TWPu"
      }
    },
    {
      "cell_type": "code",
      "source": [
        "pattern = re.compile(r\".\") # ignores \\n character\n",
        "\n",
        "matches = re.finditer(pattern, test_string_1)\n",
        "\n",
        "for match in matches:\n",
        "\tprint(match)"
      ],
      "metadata": {
        "colab": {
          "base_uri": "https://localhost:8080/"
        },
        "id": "7j_LdIL4TZ6d",
        "outputId": "91b3023f-5450-4f59-da41-1f31f1fabc6d"
      },
      "execution_count": 30,
      "outputs": [
        {
          "output_type": "stream",
          "name": "stdout",
          "text": [
            "<re.Match object; span=(0, 1), match='1'>\n",
            "<re.Match object; span=(1, 2), match='2'>\n",
            "<re.Match object; span=(2, 3), match='3'>\n",
            "<re.Match object; span=(3, 4), match='a'>\n",
            "<re.Match object; span=(4, 5), match='b'>\n",
            "<re.Match object; span=(5, 6), match='c'>\n",
            "<re.Match object; span=(6, 7), match='.'>\n",
            "<re.Match object; span=(7, 8), match='4'>\n",
            "<re.Match object; span=(8, 9), match='5'>\n",
            "<re.Match object; span=(9, 10), match='6'>\n",
            "<re.Match object; span=(10, 11), match='7'>\n",
            "<re.Match object; span=(11, 12), match='8'>\n",
            "<re.Match object; span=(12, 13), match='9'>\n",
            "<re.Match object; span=(13, 14), match='a'>\n",
            "<re.Match object; span=(14, 15), match='b'>\n",
            "<re.Match object; span=(15, 16), match='c'>\n",
            "<re.Match object; span=(16, 17), match='1'>\n",
            "<re.Match object; span=(17, 18), match='2'>\n",
            "<re.Match object; span=(18, 19), match='3'>\n",
            "<re.Match object; span=(19, 20), match='d'>\n",
            "<re.Match object; span=(20, 21), match='e'>\n",
            "<re.Match object; span=(21, 22), match='f'>\n",
            "<re.Match object; span=(22, 23), match='G'>\n",
            "<re.Match object; span=(23, 24), match='H'>\n",
            "<re.Match object; span=(24, 25), match='I'>\n",
            "<re.Match object; span=(25, 26), match='.'>\n",
            "<re.Match object; span=(26, 27), match='A'>\n",
            "<re.Match object; span=(27, 28), match='B'>\n",
            "<re.Match object; span=(28, 29), match='C'>\n",
            "<re.Match object; span=(29, 30), match=' '>\n",
            "<re.Match object; span=(31, 32), match=' '>\n",
            "<re.Match object; span=(32, 33), match='x'>\n",
            "<re.Match object; span=(33, 34), match='y'>\n",
            "<re.Match object; span=(34, 35), match='z'>\n",
            "<re.Match object; span=(35, 36), match='3'>\n",
            "<re.Match object; span=(36, 37), match='4'>\n",
            "<re.Match object; span=(37, 38), match='5'>\n",
            "<re.Match object; span=(38, 39), match='W'>\n",
            "<re.Match object; span=(39, 40), match='X'>\n",
            "<re.Match object; span=(40, 41), match='Y'>\n",
            "<re.Match object; span=(41, 42), match='Z'>\n"
          ]
        }
      ]
    },
    {
      "cell_type": "code",
      "source": [
        "# dot meta charecter in string 2\n",
        "print(test_string_2, end=\"\\n\\n\")\n",
        "\n",
        "pattern = re.compile(r\".\")\n",
        "\n",
        "matches = re.finditer(pattern, test_string_2)\n",
        "\n",
        "for match in matches:\n",
        "  print(match)"
      ],
      "metadata": {
        "colab": {
          "base_uri": "https://localhost:8080/"
        },
        "id": "08msHnLHTcO0",
        "outputId": "274429ba-de04-4411-98f3-142af5d09700"
      },
      "execution_count": 31,
      "outputs": [
        {
          "output_type": "stream",
          "name": "stdout",
          "text": [
            "The cat sat on the mat with a bat and a hat.\n",
            "\n",
            "<re.Match object; span=(0, 1), match='T'>\n",
            "<re.Match object; span=(1, 2), match='h'>\n",
            "<re.Match object; span=(2, 3), match='e'>\n",
            "<re.Match object; span=(3, 4), match=' '>\n",
            "<re.Match object; span=(4, 5), match='c'>\n",
            "<re.Match object; span=(5, 6), match='a'>\n",
            "<re.Match object; span=(6, 7), match='t'>\n",
            "<re.Match object; span=(7, 8), match=' '>\n",
            "<re.Match object; span=(8, 9), match='s'>\n",
            "<re.Match object; span=(9, 10), match='a'>\n",
            "<re.Match object; span=(10, 11), match='t'>\n",
            "<re.Match object; span=(11, 12), match=' '>\n",
            "<re.Match object; span=(12, 13), match='o'>\n",
            "<re.Match object; span=(13, 14), match='n'>\n",
            "<re.Match object; span=(14, 15), match=' '>\n",
            "<re.Match object; span=(15, 16), match='t'>\n",
            "<re.Match object; span=(16, 17), match='h'>\n",
            "<re.Match object; span=(17, 18), match='e'>\n",
            "<re.Match object; span=(18, 19), match=' '>\n",
            "<re.Match object; span=(19, 20), match='m'>\n",
            "<re.Match object; span=(20, 21), match='a'>\n",
            "<re.Match object; span=(21, 22), match='t'>\n",
            "<re.Match object; span=(22, 23), match=' '>\n",
            "<re.Match object; span=(23, 24), match='w'>\n",
            "<re.Match object; span=(24, 25), match='i'>\n",
            "<re.Match object; span=(25, 26), match='t'>\n",
            "<re.Match object; span=(26, 27), match='h'>\n",
            "<re.Match object; span=(27, 28), match=' '>\n",
            "<re.Match object; span=(28, 29), match='a'>\n",
            "<re.Match object; span=(29, 30), match=' '>\n",
            "<re.Match object; span=(30, 31), match='b'>\n",
            "<re.Match object; span=(31, 32), match='a'>\n",
            "<re.Match object; span=(32, 33), match='t'>\n",
            "<re.Match object; span=(33, 34), match=' '>\n",
            "<re.Match object; span=(34, 35), match='a'>\n",
            "<re.Match object; span=(35, 36), match='n'>\n",
            "<re.Match object; span=(36, 37), match='d'>\n",
            "<re.Match object; span=(37, 38), match=' '>\n",
            "<re.Match object; span=(38, 39), match='a'>\n",
            "<re.Match object; span=(39, 40), match=' '>\n",
            "<re.Match object; span=(40, 41), match='h'>\n",
            "<re.Match object; span=(41, 42), match='a'>\n",
            "<re.Match object; span=(42, 43), match='t'>\n",
            "<re.Match object; span=(43, 44), match='.'>\n"
          ]
        }
      ]
    },
    {
      "cell_type": "code",
      "source": [
        "# dot meta charecter in string 3\n",
        "print(test_string_3, end=\"/n/n\")\n",
        "\n",
        "pattern = re.compiler(r\".\")\n",
        "\n",
        "matches = re.finditer(pattern, test_string_3)\n",
        "\n",
        "for match in matches:\n",
        "  print(match)"
      ],
      "metadata": {
        "colab": {
          "base_uri": "https://localhost:8080/",
          "height": 211
        },
        "id": "2wjv0M2bUVTh",
        "outputId": "999187ba-c510-4ee2-c8e1-8e9cd5e63ffc"
      },
      "execution_count": 34,
      "outputs": [
        {
          "output_type": "error",
          "ename": "NameError",
          "evalue": "name 'test_string_3' is not defined",
          "traceback": [
            "\u001b[0;31m---------------------------------------------------------------------------\u001b[0m",
            "\u001b[0;31mNameError\u001b[0m                                 Traceback (most recent call last)",
            "\u001b[0;32m<ipython-input-34-2cc2262b99b9>\u001b[0m in \u001b[0;36m<cell line: 0>\u001b[0;34m()\u001b[0m\n\u001b[1;32m      1\u001b[0m \u001b[0;31m# dot meta charecter in string 3\u001b[0m\u001b[0;34m\u001b[0m\u001b[0;34m\u001b[0m\u001b[0m\n\u001b[0;32m----> 2\u001b[0;31m \u001b[0mprint\u001b[0m\u001b[0;34m(\u001b[0m\u001b[0mtest_string_3\u001b[0m\u001b[0;34m,\u001b[0m \u001b[0mend\u001b[0m\u001b[0;34m=\u001b[0m\u001b[0;34m\"/n/n\"\u001b[0m\u001b[0;34m)\u001b[0m\u001b[0;34m\u001b[0m\u001b[0;34m\u001b[0m\u001b[0m\n\u001b[0m\u001b[1;32m      3\u001b[0m \u001b[0;34m\u001b[0m\u001b[0m\n\u001b[1;32m      4\u001b[0m \u001b[0mpattern\u001b[0m \u001b[0;34m=\u001b[0m \u001b[0mre\u001b[0m\u001b[0;34m.\u001b[0m\u001b[0mcompiler\u001b[0m\u001b[0;34m(\u001b[0m\u001b[0;34mr\".\"\u001b[0m\u001b[0;34m)\u001b[0m\u001b[0;34m\u001b[0m\u001b[0;34m\u001b[0m\u001b[0m\n\u001b[1;32m      5\u001b[0m \u001b[0;34m\u001b[0m\u001b[0m\n",
            "\u001b[0;31mNameError\u001b[0m: name 'test_string_3' is not defined"
          ]
        }
      ]
    },
    {
      "cell_type": "markdown",
      "source": [
        "4.2 carat(^)"
      ],
      "metadata": {
        "id": "qoZs923QVFcM"
      }
    },
    {
      "cell_type": "code",
      "source": [
        "# Search for pattern at the beginning of the string\n",
        "print(text, end=\"\\n\\n\")\n",
        "\n",
        "pattern = re.compile(r\"Hello\") # This gives all occurences\n",
        "\n",
        "matches = re.finditer(pattern, text)\n",
        "\n",
        "for match in matches:\n",
        "\tprint(match)"
      ],
      "metadata": {
        "colab": {
          "base_uri": "https://localhost:8080/"
        },
        "id": "WjitzNqtVKsd",
        "outputId": "8a248f40-606d-4327-96bb-530add46cf55"
      },
      "execution_count": 35,
      "outputs": [
        {
          "output_type": "stream",
          "name": "stdout",
          "text": [
            "Hello World!\n",
            "This is a test.\n",
            "Hello again!\n",
            "Python is fun.\n",
            "Hello Python\n",
            "\n",
            "<re.Match object; span=(0, 5), match='Hello'>\n",
            "<re.Match object; span=(29, 34), match='Hello'>\n",
            "<re.Match object; span=(57, 62), match='Hello'>\n"
          ]
        }
      ]
    },
    {
      "cell_type": "code",
      "source": [
        "print(text, end=\"\\n\\n\") # Search for pattern at the beginning of the string and stops searching after finding first occurence\n",
        "\n",
        "pattern = re.compile(r\"^Hello\")  # Single Occurence\n",
        "\n",
        "matches = re.finditer(pattern, text)\n",
        "\n",
        "for match in matches:\n",
        "\tprint(match)\n"
      ],
      "metadata": {
        "colab": {
          "base_uri": "https://localhost:8080/"
        },
        "id": "n5TvfBWuVOT3",
        "outputId": "b5f33c08-9a95-4961-e173-89ff102d2639"
      },
      "execution_count": 36,
      "outputs": [
        {
          "output_type": "stream",
          "name": "stdout",
          "text": [
            "Hello World!\n",
            "This is a test.\n",
            "Hello again!\n",
            "Python is fun.\n",
            "Hello Python\n",
            "\n",
            "<re.Match object; span=(0, 5), match='Hello'>\n"
          ]
        }
      ]
    },
    {
      "cell_type": "code",
      "source": [
        "print(text, end=\"\\n\\n\") # Search for pattern at the end of the string\n",
        "\n",
        "pattern = re.compile(r\"Python\") # gives all occurence\n",
        "\n",
        "matches = re.finditer(pattern, text)\n",
        "\n",
        "for match in matches:\n",
        "\tprint(match)"
      ],
      "metadata": {
        "colab": {
          "base_uri": "https://localhost:8080/"
        },
        "id": "OIqsOLUBVQ-f",
        "outputId": "55748a9a-983b-4cef-93d5-b8dbb02d906f"
      },
      "execution_count": 37,
      "outputs": [
        {
          "output_type": "stream",
          "name": "stdout",
          "text": [
            "Hello World!\n",
            "This is a test.\n",
            "Hello again!\n",
            "Python is fun.\n",
            "Hello Python\n",
            "\n",
            "<re.Match object; span=(42, 48), match='Python'>\n",
            "<re.Match object; span=(63, 69), match='Python'>\n"
          ]
        }
      ]
    },
    {
      "cell_type": "code",
      "source": [
        "print(text, end=\"\\n\\n\") # Search for pattern at the end of the string and stops searching after finding first occurence\n",
        "\n",
        "pattern = re.compile(r\"Python$\") # gives only single occuurence\n",
        "\n",
        "matches = re.finditer(pattern, text)\n",
        "\n",
        "for match in matches:\n",
        "\tprint(match)"
      ],
      "metadata": {
        "colab": {
          "base_uri": "https://localhost:8080/"
        },
        "id": "jnDWrADSVT3L",
        "outputId": "84ec5cf8-9ba1-4559-cd8a-986f97f51bb1"
      },
      "execution_count": 38,
      "outputs": [
        {
          "output_type": "stream",
          "name": "stdout",
          "text": [
            "Hello World!\n",
            "This is a test.\n",
            "Hello again!\n",
            "Python is fun.\n",
            "Hello Python\n",
            "\n",
            "<re.Match object; span=(63, 69), match='Python'>\n"
          ]
        }
      ]
    },
    {
      "cell_type": "markdown",
      "source": [
        "5. Charater sets"
      ],
      "metadata": {
        "id": "VWPGwQhHVcFY"
      }
    },
    {
      "cell_type": "markdown",
      "source": [
        "5.1 Custom Charater sets"
      ],
      "metadata": {
        "id": "5cHv7uYuVgET"
      }
    },
    {
      "cell_type": "code",
      "source": [
        "test_string = \"123abc.4567XYZ$89abc123  def%GHIxyz.ABC#i.\""
      ],
      "metadata": {
        "id": "yJLkx9xHVlI7"
      },
      "execution_count": 39,
      "outputs": []
    },
    {
      "cell_type": "markdown",
      "source": [
        "5.1.1 Literal Charaters"
      ],
      "metadata": {
        "id": "pIJYddSJVoek"
      }
    },
    {
      "cell_type": "code",
      "source": [
        "# vowels"
      ],
      "metadata": {
        "id": "y1yKXwmNVrzj"
      },
      "execution_count": 40,
      "outputs": []
    },
    {
      "cell_type": "code",
      "source": [
        "print(test_string, end=\"\\n\\n\")\n",
        "\n",
        "pattern  = re.compile(r\"[aeiou]\") #search for mentioned characters and return a single character in []\n",
        "\n",
        "matches = re.finditer(pattern, test_string)\n",
        "\n",
        "for match in matches:\n",
        "\tprint(match)"
      ],
      "metadata": {
        "colab": {
          "base_uri": "https://localhost:8080/"
        },
        "id": "6AVpTQI_Vvmi",
        "outputId": "8933a2a5-db13-4dea-b3d8-373c12a09ea9"
      },
      "execution_count": 42,
      "outputs": [
        {
          "output_type": "stream",
          "name": "stdout",
          "text": [
            "123abc.4567XYZ$89abc123  def%GHIxyz.ABC#i.\n",
            "\n",
            "<re.Match object; span=(3, 4), match='a'>\n",
            "<re.Match object; span=(17, 18), match='a'>\n",
            "<re.Match object; span=(26, 27), match='e'>\n",
            "<re.Match object; span=(40, 41), match='i'>\n"
          ]
        }
      ]
    },
    {
      "cell_type": "code",
      "source": [
        "print(test_string, end=\"\\n\\n\")\n",
        "\n",
        "pattern  = re.compile(r\"[aeiouAEIOU]\") # 2nd example\n",
        "\n",
        "matches = re.finditer(pattern, test_string) #finditer\n",
        "\n",
        "for match in matches:\n",
        "\tprint(match)"
      ],
      "metadata": {
        "colab": {
          "base_uri": "https://localhost:8080/"
        },
        "id": "RaHQ-RDgV9W2",
        "outputId": "45ec0a7b-b230-487b-a367-5ba3f0a0e288"
      },
      "execution_count": 43,
      "outputs": [
        {
          "output_type": "stream",
          "name": "stdout",
          "text": [
            "123abc.4567XYZ$89abc123  def%GHIxyz.ABC#i.\n",
            "\n",
            "<re.Match object; span=(3, 4), match='a'>\n",
            "<re.Match object; span=(17, 18), match='a'>\n",
            "<re.Match object; span=(26, 27), match='e'>\n",
            "<re.Match object; span=(31, 32), match='I'>\n",
            "<re.Match object; span=(36, 37), match='A'>\n",
            "<re.Match object; span=(40, 41), match='i'>\n"
          ]
        }
      ]
    },
    {
      "cell_type": "code",
      "source": [
        "print(test_string, end=\"\\n\\n\")\n",
        "\n",
        "pattern  = re.compile(r\"[aeiouAEIOU]\") # 3nd example\n",
        "\n",
        "matches = re.findall(pattern, test_string) #findall()\n",
        "matches"
      ],
      "metadata": {
        "colab": {
          "base_uri": "https://localhost:8080/"
        },
        "id": "8nNUCgzsWAZg",
        "outputId": "d89de138-3c8a-47ac-d352-7dcb21f08fae"
      },
      "execution_count": 44,
      "outputs": [
        {
          "output_type": "stream",
          "name": "stdout",
          "text": [
            "123abc.4567XYZ$89abc123  def%GHIxyz.ABC#i.\n",
            "\n"
          ]
        },
        {
          "output_type": "execute_result",
          "data": {
            "text/plain": [
              "['a', 'a', 'e', 'I', 'A', 'i']"
            ]
          },
          "metadata": {},
          "execution_count": 44
        }
      ]
    },
    {
      "cell_type": "code",
      "source": [
        "# digits"
      ],
      "metadata": {
        "id": "hwcTdpKtWFPp"
      },
      "execution_count": 45,
      "outputs": []
    },
    {
      "cell_type": "code",
      "source": [
        "print(test_string, end=\"\\n\\n\")\n",
        "\n",
        "pattern  = re.compile(r\"[0123456789]\") # we can also search for digits from the string/text\n",
        "\n",
        "matches = re.finditer(pattern, test_string)\n",
        "\n",
        "for match in matches:\n",
        "\tprint(match)"
      ],
      "metadata": {
        "colab": {
          "base_uri": "https://localhost:8080/"
        },
        "id": "gkWPFLobWHzo",
        "outputId": "c2ff85ea-b833-48a0-b251-8afeac3a5c4d"
      },
      "execution_count": 46,
      "outputs": [
        {
          "output_type": "stream",
          "name": "stdout",
          "text": [
            "123abc.4567XYZ$89abc123  def%GHIxyz.ABC#i.\n",
            "\n",
            "<re.Match object; span=(0, 1), match='1'>\n",
            "<re.Match object; span=(1, 2), match='2'>\n",
            "<re.Match object; span=(2, 3), match='3'>\n",
            "<re.Match object; span=(7, 8), match='4'>\n",
            "<re.Match object; span=(8, 9), match='5'>\n",
            "<re.Match object; span=(9, 10), match='6'>\n",
            "<re.Match object; span=(10, 11), match='7'>\n",
            "<re.Match object; span=(15, 16), match='8'>\n",
            "<re.Match object; span=(16, 17), match='9'>\n",
            "<re.Match object; span=(20, 21), match='1'>\n",
            "<re.Match object; span=(21, 22), match='2'>\n",
            "<re.Match object; span=(22, 23), match='3'>\n"
          ]
        }
      ]
    },
    {
      "cell_type": "code",
      "source": [
        "# even numbers"
      ],
      "metadata": {
        "id": "Uv_uT55FWJ0q"
      },
      "execution_count": 47,
      "outputs": []
    },
    {
      "cell_type": "code",
      "source": [
        "print(test_string, end=\"\\n\\n\")\n",
        "\n",
        "pattern  = re.compile(r\"[2468]\") # explicitly search for whats in brach char by char\n",
        "\n",
        "matches = re.finditer(pattern, test_string)\n",
        "\n",
        "for match in matches:\n",
        "\tprint(match)"
      ],
      "metadata": {
        "colab": {
          "base_uri": "https://localhost:8080/"
        },
        "id": "dGZp3RNxWMJy",
        "outputId": "82a71d19-398b-406d-c8f4-5c16a3f695a2"
      },
      "execution_count": 48,
      "outputs": [
        {
          "output_type": "stream",
          "name": "stdout",
          "text": [
            "123abc.4567XYZ$89abc123  def%GHIxyz.ABC#i.\n",
            "\n",
            "<re.Match object; span=(1, 2), match='2'>\n",
            "<re.Match object; span=(7, 8), match='4'>\n",
            "<re.Match object; span=(9, 10), match='6'>\n",
            "<re.Match object; span=(15, 16), match='8'>\n",
            "<re.Match object; span=(21, 22), match='2'>\n"
          ]
        }
      ]
    },
    {
      "cell_type": "markdown",
      "source": [
        "5.1.2 Character Ranges"
      ],
      "metadata": {
        "id": "zA5N-3JSWQhu"
      }
    },
    {
      "cell_type": "code",
      "source": [
        "# digits"
      ],
      "metadata": {
        "id": "rq41XXK0WRNQ"
      },
      "execution_count": 49,
      "outputs": []
    },
    {
      "cell_type": "code",
      "source": [
        "print(test_string, end=\"\\n\\n\")\n",
        "\n",
        "pattern  = re.compile(r\"[0-9]\") # we can also specify ranges instead of typing whole character set\n",
        "\n",
        "matches = re.finditer(pattern, test_string)\n",
        "\n",
        "for match in matches:\n",
        "\tprint(match)"
      ],
      "metadata": {
        "colab": {
          "base_uri": "https://localhost:8080/"
        },
        "id": "UXdRykmEWTSW",
        "outputId": "0c54877e-d32a-46ea-fbc7-aeb95417eb23"
      },
      "execution_count": 50,
      "outputs": [
        {
          "output_type": "stream",
          "name": "stdout",
          "text": [
            "123abc.4567XYZ$89abc123  def%GHIxyz.ABC#i.\n",
            "\n",
            "<re.Match object; span=(0, 1), match='1'>\n",
            "<re.Match object; span=(1, 2), match='2'>\n",
            "<re.Match object; span=(2, 3), match='3'>\n",
            "<re.Match object; span=(7, 8), match='4'>\n",
            "<re.Match object; span=(8, 9), match='5'>\n",
            "<re.Match object; span=(9, 10), match='6'>\n",
            "<re.Match object; span=(10, 11), match='7'>\n",
            "<re.Match object; span=(15, 16), match='8'>\n",
            "<re.Match object; span=(16, 17), match='9'>\n",
            "<re.Match object; span=(20, 21), match='1'>\n",
            "<re.Match object; span=(21, 22), match='2'>\n",
            "<re.Match object; span=(22, 23), match='3'>\n"
          ]
        }
      ]
    },
    {
      "cell_type": "code",
      "source": [
        "# alphabets"
      ],
      "metadata": {
        "id": "DN0lb-EyWVbo"
      },
      "execution_count": 51,
      "outputs": []
    },
    {
      "cell_type": "code",
      "source": [
        "print(test_string, end=\"\\n\\n\")\n",
        "\n",
        "pattern  = re.compile(r\"[a-zA-Z0-9]\") # we can also specify ranges instead of typing whole character set\n",
        "\n",
        "matches = re.finditer(pattern, test_string)\n",
        "\n",
        "for match in matches:\n",
        "\tprint(match)"
      ],
      "metadata": {
        "colab": {
          "base_uri": "https://localhost:8080/"
        },
        "id": "kFegxrUzWdM2",
        "outputId": "25ae2815-a94e-475d-8981-e6ffbf9edbc0"
      },
      "execution_count": 52,
      "outputs": [
        {
          "output_type": "stream",
          "name": "stdout",
          "text": [
            "123abc.4567XYZ$89abc123  def%GHIxyz.ABC#i.\n",
            "\n",
            "<re.Match object; span=(0, 1), match='1'>\n",
            "<re.Match object; span=(1, 2), match='2'>\n",
            "<re.Match object; span=(2, 3), match='3'>\n",
            "<re.Match object; span=(3, 4), match='a'>\n",
            "<re.Match object; span=(4, 5), match='b'>\n",
            "<re.Match object; span=(5, 6), match='c'>\n",
            "<re.Match object; span=(7, 8), match='4'>\n",
            "<re.Match object; span=(8, 9), match='5'>\n",
            "<re.Match object; span=(9, 10), match='6'>\n",
            "<re.Match object; span=(10, 11), match='7'>\n",
            "<re.Match object; span=(11, 12), match='X'>\n",
            "<re.Match object; span=(12, 13), match='Y'>\n",
            "<re.Match object; span=(13, 14), match='Z'>\n",
            "<re.Match object; span=(15, 16), match='8'>\n",
            "<re.Match object; span=(16, 17), match='9'>\n",
            "<re.Match object; span=(17, 18), match='a'>\n",
            "<re.Match object; span=(18, 19), match='b'>\n",
            "<re.Match object; span=(19, 20), match='c'>\n",
            "<re.Match object; span=(20, 21), match='1'>\n",
            "<re.Match object; span=(21, 22), match='2'>\n",
            "<re.Match object; span=(22, 23), match='3'>\n",
            "<re.Match object; span=(25, 26), match='d'>\n",
            "<re.Match object; span=(26, 27), match='e'>\n",
            "<re.Match object; span=(27, 28), match='f'>\n",
            "<re.Match object; span=(29, 30), match='G'>\n",
            "<re.Match object; span=(30, 31), match='H'>\n",
            "<re.Match object; span=(31, 32), match='I'>\n",
            "<re.Match object; span=(32, 33), match='x'>\n",
            "<re.Match object; span=(33, 34), match='y'>\n",
            "<re.Match object; span=(34, 35), match='z'>\n",
            "<re.Match object; span=(36, 37), match='A'>\n",
            "<re.Match object; span=(37, 38), match='B'>\n",
            "<re.Match object; span=(38, 39), match='C'>\n",
            "<re.Match object; span=(40, 41), match='i'>\n"
          ]
        }
      ]
    },
    {
      "cell_type": "code",
      "source": [
        "# hexadecimal characters\n",
        "# body {\n",
        "#   background-color: #FF5733;\n",
        "# }\n"
      ],
      "metadata": {
        "id": "PrFJsmqCWeyZ"
      },
      "execution_count": 53,
      "outputs": []
    },
    {
      "cell_type": "code",
      "source": [
        "print(test_string, end=\"\\n\\n\")\n",
        "\n",
        "pattern  = re.compile(r\"[0-9a-fA-F]\")\n",
        "\n",
        "matches = re.finditer(pattern, test_string)\n",
        "\n",
        "for match in matches:\n",
        "\tprint(match)"
      ],
      "metadata": {
        "colab": {
          "base_uri": "https://localhost:8080/"
        },
        "id": "05F5bQ4UWi2Y",
        "outputId": "f215ea14-17ac-45f3-b46c-f79083a07946"
      },
      "execution_count": 54,
      "outputs": [
        {
          "output_type": "stream",
          "name": "stdout",
          "text": [
            "123abc.4567XYZ$89abc123  def%GHIxyz.ABC#i.\n",
            "\n",
            "<re.Match object; span=(0, 1), match='1'>\n",
            "<re.Match object; span=(1, 2), match='2'>\n",
            "<re.Match object; span=(2, 3), match='3'>\n",
            "<re.Match object; span=(3, 4), match='a'>\n",
            "<re.Match object; span=(4, 5), match='b'>\n",
            "<re.Match object; span=(5, 6), match='c'>\n",
            "<re.Match object; span=(7, 8), match='4'>\n",
            "<re.Match object; span=(8, 9), match='5'>\n",
            "<re.Match object; span=(9, 10), match='6'>\n",
            "<re.Match object; span=(10, 11), match='7'>\n",
            "<re.Match object; span=(15, 16), match='8'>\n",
            "<re.Match object; span=(16, 17), match='9'>\n",
            "<re.Match object; span=(17, 18), match='a'>\n",
            "<re.Match object; span=(18, 19), match='b'>\n",
            "<re.Match object; span=(19, 20), match='c'>\n",
            "<re.Match object; span=(20, 21), match='1'>\n",
            "<re.Match object; span=(21, 22), match='2'>\n",
            "<re.Match object; span=(22, 23), match='3'>\n",
            "<re.Match object; span=(25, 26), match='d'>\n",
            "<re.Match object; span=(26, 27), match='e'>\n",
            "<re.Match object; span=(27, 28), match='f'>\n",
            "<re.Match object; span=(36, 37), match='A'>\n",
            "<re.Match object; span=(37, 38), match='B'>\n",
            "<re.Match object; span=(38, 39), match='C'>\n"
          ]
        }
      ]
    },
    {
      "cell_type": "markdown",
      "source": [
        "5.1.3 Character Negation"
      ],
      "metadata": {
        "id": "FipHjLS9WoXQ"
      }
    },
    {
      "cell_type": "code",
      "source": [
        "# consonents"
      ],
      "metadata": {
        "id": "9RzXHc74WqX0"
      },
      "execution_count": 55,
      "outputs": []
    },
    {
      "cell_type": "code",
      "source": [
        "print(test_string, end=\"\\n\\n\")\n",
        "\n",
        "pattern  = re.compile(r\"[^aeiouAEIOU0-9%$#. ]\") # for Negation use carat symbol in beginning only in square brackets\n",
        "\n",
        "matches = re.finditer(pattern, test_string)\n",
        "\n",
        "for match in matches:\n",
        "\tprint(match)"
      ],
      "metadata": {
        "colab": {
          "base_uri": "https://localhost:8080/"
        },
        "id": "qYFG8B7bWsI0",
        "outputId": "89a0adbd-8022-4668-a2de-8f9aadac424b"
      },
      "execution_count": 56,
      "outputs": [
        {
          "output_type": "stream",
          "name": "stdout",
          "text": [
            "123abc.4567XYZ$89abc123  def%GHIxyz.ABC#i.\n",
            "\n",
            "<re.Match object; span=(4, 5), match='b'>\n",
            "<re.Match object; span=(5, 6), match='c'>\n",
            "<re.Match object; span=(11, 12), match='X'>\n",
            "<re.Match object; span=(12, 13), match='Y'>\n",
            "<re.Match object; span=(13, 14), match='Z'>\n",
            "<re.Match object; span=(18, 19), match='b'>\n",
            "<re.Match object; span=(19, 20), match='c'>\n",
            "<re.Match object; span=(25, 26), match='d'>\n",
            "<re.Match object; span=(27, 28), match='f'>\n",
            "<re.Match object; span=(29, 30), match='G'>\n",
            "<re.Match object; span=(30, 31), match='H'>\n",
            "<re.Match object; span=(32, 33), match='x'>\n",
            "<re.Match object; span=(33, 34), match='y'>\n",
            "<re.Match object; span=(34, 35), match='z'>\n",
            "<re.Match object; span=(37, 38), match='B'>\n",
            "<re.Match object; span=(38, 39), match='C'>\n"
          ]
        }
      ]
    },
    {
      "cell_type": "code",
      "source": [
        "# not even numbers"
      ],
      "metadata": {
        "id": "j4IDrqAsWxiu"
      },
      "execution_count": 57,
      "outputs": []
    },
    {
      "cell_type": "code",
      "source": [
        "print(test_string, end=\"\\n\\n\")\n",
        "\n",
        "pattern  = re.compile(r\"[^02468a-zA-Z%$#. ]\") #Negation of even numbers\n",
        "\n",
        "matches = re.finditer(pattern, test_string)\n",
        "\n",
        "for match in matches:\n",
        "\tprint(match)"
      ],
      "metadata": {
        "colab": {
          "base_uri": "https://localhost:8080/"
        },
        "id": "USzExkCSW1ME",
        "outputId": "8230a234-e378-4502-c2c6-1dd70c8adda0"
      },
      "execution_count": 58,
      "outputs": [
        {
          "output_type": "stream",
          "name": "stdout",
          "text": [
            "123abc.4567XYZ$89abc123  def%GHIxyz.ABC#i.\n",
            "\n",
            "<re.Match object; span=(0, 1), match='1'>\n",
            "<re.Match object; span=(2, 3), match='3'>\n",
            "<re.Match object; span=(8, 9), match='5'>\n",
            "<re.Match object; span=(10, 11), match='7'>\n",
            "<re.Match object; span=(16, 17), match='9'>\n",
            "<re.Match object; span=(20, 21), match='1'>\n",
            "<re.Match object; span=(22, 23), match='3'>\n"
          ]
        }
      ]
    },
    {
      "cell_type": "code",
      "source": [
        "# special characters"
      ],
      "metadata": {
        "id": "goX95mbaW3Ly"
      },
      "execution_count": 59,
      "outputs": []
    },
    {
      "cell_type": "code",
      "source": [
        "print(test_string, end=\"\\n\\n\")\n",
        "\n",
        "pattern  = re.compile(r\"[^a-zA-Z0-9. ]\") #Special characters searching\n",
        "\n",
        "matches = re.finditer(pattern, test_string)\n",
        "\n",
        "for match in matches:\n",
        "\tprint(match)"
      ],
      "metadata": {
        "colab": {
          "base_uri": "https://localhost:8080/"
        },
        "id": "XooexJtHW5ZD",
        "outputId": "25d43ca4-6dc5-472b-8687-9a713e7b0b6a"
      },
      "execution_count": 60,
      "outputs": [
        {
          "output_type": "stream",
          "name": "stdout",
          "text": [
            "123abc.4567XYZ$89abc123  def%GHIxyz.ABC#i.\n",
            "\n",
            "<re.Match object; span=(14, 15), match='$'>\n",
            "<re.Match object; span=(28, 29), match='%'>\n",
            "<re.Match object; span=(39, 40), match='#'>\n"
          ]
        }
      ]
    },
    {
      "cell_type": "markdown",
      "source": [
        "5.2 Pre-defined Character Sets"
      ],
      "metadata": {
        "id": "3Kb6znlsW8p9"
      }
    },
    {
      "cell_type": "code",
      "source": [
        "test_string_1 = \"123abc.4567XYZ$89abc123 def%GHIxyz .ABC#i.\"\n",
        "\n",
        "test_string_2 = \"123abc.4567\\nXYZ$89abc123 def%GHI\\nxyz .ABC#i.\"\n",
        "\n",
        "test_string_3 = 'heyhello 123_ heyho hohey'"
      ],
      "metadata": {
        "id": "3swyNlaXW-MO"
      },
      "execution_count": 61,
      "outputs": []
    },
    {
      "cell_type": "code",
      "source": [
        "# digits"
      ],
      "metadata": {
        "id": "59DjcoTnXBF3"
      },
      "execution_count": 62,
      "outputs": []
    },
    {
      "cell_type": "code",
      "source": [
        "print(test_string_1, end=\"\\n\\n\")\n",
        "\n",
        "pattern  = re.compile(r\"[\\d]\") #\\d includes search for digits in text or string\n",
        "\n",
        "matches = re.finditer(pattern, test_string_1)\n",
        "\n",
        "for match in matches:\n",
        "\tprint(match)"
      ],
      "metadata": {
        "colab": {
          "base_uri": "https://localhost:8080/"
        },
        "id": "eItp5tEjXDHg",
        "outputId": "487a0a19-c525-4d02-e17f-9a95244d1700"
      },
      "execution_count": 63,
      "outputs": [
        {
          "output_type": "stream",
          "name": "stdout",
          "text": [
            "123abc.4567XYZ$89abc123 def%GHIxyz .ABC#i.\n",
            "\n",
            "<re.Match object; span=(0, 1), match='1'>\n",
            "<re.Match object; span=(1, 2), match='2'>\n",
            "<re.Match object; span=(2, 3), match='3'>\n",
            "<re.Match object; span=(7, 8), match='4'>\n",
            "<re.Match object; span=(8, 9), match='5'>\n",
            "<re.Match object; span=(9, 10), match='6'>\n",
            "<re.Match object; span=(10, 11), match='7'>\n",
            "<re.Match object; span=(15, 16), match='8'>\n",
            "<re.Match object; span=(16, 17), match='9'>\n",
            "<re.Match object; span=(20, 21), match='1'>\n",
            "<re.Match object; span=(21, 22), match='2'>\n",
            "<re.Match object; span=(22, 23), match='3'>\n"
          ]
        }
      ]
    },
    {
      "cell_type": "code",
      "source": [
        "# not digits"
      ],
      "metadata": {
        "id": "gLrJ2NCAXFmR"
      },
      "execution_count": 64,
      "outputs": []
    },
    {
      "cell_type": "code",
      "source": [
        "print(test_string_1, end=\"\\n\\n\")\n",
        "\n",
        "pattern  = re.compile(r\"[\\D]\") #\\D search for everything other than digits in text or string\n",
        "\n",
        "matches = re.finditer(pattern, test_string_1)\n",
        "\n",
        "for match in matches:\n",
        "\tprint(match)"
      ],
      "metadata": {
        "colab": {
          "base_uri": "https://localhost:8080/"
        },
        "id": "HMMI5wbzXXpa",
        "outputId": "266ab985-bc2c-408a-e5ad-de2253b32a81"
      },
      "execution_count": 67,
      "outputs": [
        {
          "output_type": "stream",
          "name": "stdout",
          "text": [
            "123abc.4567XYZ$89abc123 def%GHIxyz .ABC#i.\n",
            "\n",
            "<re.Match object; span=(3, 4), match='a'>\n",
            "<re.Match object; span=(4, 5), match='b'>\n",
            "<re.Match object; span=(5, 6), match='c'>\n",
            "<re.Match object; span=(6, 7), match='.'>\n",
            "<re.Match object; span=(11, 12), match='X'>\n",
            "<re.Match object; span=(12, 13), match='Y'>\n",
            "<re.Match object; span=(13, 14), match='Z'>\n",
            "<re.Match object; span=(14, 15), match='$'>\n",
            "<re.Match object; span=(17, 18), match='a'>\n",
            "<re.Match object; span=(18, 19), match='b'>\n",
            "<re.Match object; span=(19, 20), match='c'>\n",
            "<re.Match object; span=(23, 24), match=' '>\n",
            "<re.Match object; span=(24, 25), match='d'>\n",
            "<re.Match object; span=(25, 26), match='e'>\n",
            "<re.Match object; span=(26, 27), match='f'>\n",
            "<re.Match object; span=(27, 28), match='%'>\n",
            "<re.Match object; span=(28, 29), match='G'>\n",
            "<re.Match object; span=(29, 30), match='H'>\n",
            "<re.Match object; span=(30, 31), match='I'>\n",
            "<re.Match object; span=(31, 32), match='x'>\n",
            "<re.Match object; span=(32, 33), match='y'>\n",
            "<re.Match object; span=(33, 34), match='z'>\n",
            "<re.Match object; span=(34, 35), match=' '>\n",
            "<re.Match object; span=(35, 36), match='.'>\n",
            "<re.Match object; span=(36, 37), match='A'>\n",
            "<re.Match object; span=(37, 38), match='B'>\n",
            "<re.Match object; span=(38, 39), match='C'>\n",
            "<re.Match object; span=(39, 40), match='#'>\n",
            "<re.Match object; span=(40, 41), match='i'>\n",
            "<re.Match object; span=(41, 42), match='.'>\n"
          ]
        }
      ]
    },
    {
      "cell_type": "code",
      "source": [
        "# whitespace"
      ],
      "metadata": {
        "id": "VDoVwzKsYCAz"
      },
      "execution_count": 68,
      "outputs": []
    },
    {
      "cell_type": "code",
      "source": [
        "print(test_string_2, end=\"\\n\\n\")\n",
        "\n",
        "pattern  = re.compile(r\"[\\s]\") #search for whitespaces, space, tab , newline characters comes under whitespaces\n",
        "\n",
        "matches = re.finditer(pattern, test_string_2)\n",
        "\n",
        "for match in matches:\n",
        "\tprint(match)"
      ],
      "metadata": {
        "colab": {
          "base_uri": "https://localhost:8080/"
        },
        "id": "WjxH4Iy7YExB",
        "outputId": "e6d928af-0731-4ba6-e021-9b6bab78dabf"
      },
      "execution_count": 69,
      "outputs": [
        {
          "output_type": "stream",
          "name": "stdout",
          "text": [
            "123abc.4567\n",
            "XYZ$89abc123 def%GHI\n",
            "xyz .ABC#i.\n",
            "\n",
            "<re.Match object; span=(11, 12), match='\\n'>\n",
            "<re.Match object; span=(24, 25), match=' '>\n",
            "<re.Match object; span=(32, 33), match='\\n'>\n",
            "<re.Match object; span=(36, 37), match=' '>\n"
          ]
        }
      ]
    },
    {
      "cell_type": "code",
      "source": [
        "# not whitespace"
      ],
      "metadata": {
        "id": "hTZJvVN2YGzo"
      },
      "execution_count": 70,
      "outputs": []
    },
    {
      "cell_type": "code",
      "source": [
        "print(test_string_2, end=\"\\n\\n\")\n",
        "\n",
        "pattern  = re.compile(r\"[\\S]\") #search for other than whitespaces, space, tab , newline characters comes under whitespaces\n",
        "\n",
        "matches = re.finditer(pattern, test_string_2)\n",
        "\n",
        "for match in matches:\n",
        "\tprint(match)"
      ],
      "metadata": {
        "colab": {
          "base_uri": "https://localhost:8080/"
        },
        "id": "AVqMQgqrYKY-",
        "outputId": "413ef40a-be75-408c-c870-89c7259df69a"
      },
      "execution_count": 71,
      "outputs": [
        {
          "output_type": "stream",
          "name": "stdout",
          "text": [
            "123abc.4567\n",
            "XYZ$89abc123 def%GHI\n",
            "xyz .ABC#i.\n",
            "\n",
            "<re.Match object; span=(0, 1), match='1'>\n",
            "<re.Match object; span=(1, 2), match='2'>\n",
            "<re.Match object; span=(2, 3), match='3'>\n",
            "<re.Match object; span=(3, 4), match='a'>\n",
            "<re.Match object; span=(4, 5), match='b'>\n",
            "<re.Match object; span=(5, 6), match='c'>\n",
            "<re.Match object; span=(6, 7), match='.'>\n",
            "<re.Match object; span=(7, 8), match='4'>\n",
            "<re.Match object; span=(8, 9), match='5'>\n",
            "<re.Match object; span=(9, 10), match='6'>\n",
            "<re.Match object; span=(10, 11), match='7'>\n",
            "<re.Match object; span=(12, 13), match='X'>\n",
            "<re.Match object; span=(13, 14), match='Y'>\n",
            "<re.Match object; span=(14, 15), match='Z'>\n",
            "<re.Match object; span=(15, 16), match='$'>\n",
            "<re.Match object; span=(16, 17), match='8'>\n",
            "<re.Match object; span=(17, 18), match='9'>\n",
            "<re.Match object; span=(18, 19), match='a'>\n",
            "<re.Match object; span=(19, 20), match='b'>\n",
            "<re.Match object; span=(20, 21), match='c'>\n",
            "<re.Match object; span=(21, 22), match='1'>\n",
            "<re.Match object; span=(22, 23), match='2'>\n",
            "<re.Match object; span=(23, 24), match='3'>\n",
            "<re.Match object; span=(25, 26), match='d'>\n",
            "<re.Match object; span=(26, 27), match='e'>\n",
            "<re.Match object; span=(27, 28), match='f'>\n",
            "<re.Match object; span=(28, 29), match='%'>\n",
            "<re.Match object; span=(29, 30), match='G'>\n",
            "<re.Match object; span=(30, 31), match='H'>\n",
            "<re.Match object; span=(31, 32), match='I'>\n",
            "<re.Match object; span=(33, 34), match='x'>\n",
            "<re.Match object; span=(34, 35), match='y'>\n",
            "<re.Match object; span=(35, 36), match='z'>\n",
            "<re.Match object; span=(37, 38), match='.'>\n",
            "<re.Match object; span=(38, 39), match='A'>\n",
            "<re.Match object; span=(39, 40), match='B'>\n",
            "<re.Match object; span=(40, 41), match='C'>\n",
            "<re.Match object; span=(41, 42), match='#'>\n",
            "<re.Match object; span=(42, 43), match='i'>\n",
            "<re.Match object; span=(43, 44), match='.'>\n"
          ]
        }
      ]
    },
    {
      "cell_type": "code",
      "source": [
        "# alphanumeric"
      ],
      "metadata": {
        "id": "9mjd7a5FYMCh"
      },
      "execution_count": 72,
      "outputs": []
    },
    {
      "cell_type": "code",
      "source": [
        "print(test_string_2, end=\"\\n\\n\")\n",
        "\n",
        "pattern  = re.compile(r\"[\\w]\") # search for alphabets+nuumerical characters in text\n",
        "\n",
        "matches = re.finditer(pattern, test_string_2)\n",
        "\n",
        "for match in matches:\n",
        "\tprint(match)"
      ],
      "metadata": {
        "colab": {
          "base_uri": "https://localhost:8080/"
        },
        "id": "O9wAfzACYQyi",
        "outputId": "0eaa2112-d89b-4a13-8e0d-fc1948a81902"
      },
      "execution_count": 73,
      "outputs": [
        {
          "output_type": "stream",
          "name": "stdout",
          "text": [
            "123abc.4567\n",
            "XYZ$89abc123 def%GHI\n",
            "xyz .ABC#i.\n",
            "\n",
            "<re.Match object; span=(0, 1), match='1'>\n",
            "<re.Match object; span=(1, 2), match='2'>\n",
            "<re.Match object; span=(2, 3), match='3'>\n",
            "<re.Match object; span=(3, 4), match='a'>\n",
            "<re.Match object; span=(4, 5), match='b'>\n",
            "<re.Match object; span=(5, 6), match='c'>\n",
            "<re.Match object; span=(7, 8), match='4'>\n",
            "<re.Match object; span=(8, 9), match='5'>\n",
            "<re.Match object; span=(9, 10), match='6'>\n",
            "<re.Match object; span=(10, 11), match='7'>\n",
            "<re.Match object; span=(12, 13), match='X'>\n",
            "<re.Match object; span=(13, 14), match='Y'>\n",
            "<re.Match object; span=(14, 15), match='Z'>\n",
            "<re.Match object; span=(16, 17), match='8'>\n",
            "<re.Match object; span=(17, 18), match='9'>\n",
            "<re.Match object; span=(18, 19), match='a'>\n",
            "<re.Match object; span=(19, 20), match='b'>\n",
            "<re.Match object; span=(20, 21), match='c'>\n",
            "<re.Match object; span=(21, 22), match='1'>\n",
            "<re.Match object; span=(22, 23), match='2'>\n",
            "<re.Match object; span=(23, 24), match='3'>\n",
            "<re.Match object; span=(25, 26), match='d'>\n",
            "<re.Match object; span=(26, 27), match='e'>\n",
            "<re.Match object; span=(27, 28), match='f'>\n",
            "<re.Match object; span=(29, 30), match='G'>\n",
            "<re.Match object; span=(30, 31), match='H'>\n",
            "<re.Match object; span=(31, 32), match='I'>\n",
            "<re.Match object; span=(33, 34), match='x'>\n",
            "<re.Match object; span=(34, 35), match='y'>\n",
            "<re.Match object; span=(35, 36), match='z'>\n",
            "<re.Match object; span=(38, 39), match='A'>\n",
            "<re.Match object; span=(39, 40), match='B'>\n",
            "<re.Match object; span=(40, 41), match='C'>\n",
            "<re.Match object; span=(42, 43), match='i'>\n"
          ]
        }
      ]
    },
    {
      "cell_type": "code",
      "source": [
        "# not alphanumeric"
      ],
      "metadata": {
        "id": "5H4TvxLrYSnW"
      },
      "execution_count": 74,
      "outputs": []
    },
    {
      "cell_type": "code",
      "source": [
        "print(test_string_2, end=\"\\n\\n\")\n",
        "\n",
        "pattern  = re.compile(r\"[\\W]\") # search for other than alphabets+nuumerical characters in text which includes \\n and special chars and whitespaces\n",
        "\n",
        "matches = re.finditer(pattern, test_string_2)\n",
        "\n",
        "for match in matches:\n",
        "\tprint(match)"
      ],
      "metadata": {
        "colab": {
          "base_uri": "https://localhost:8080/"
        },
        "id": "Cza3sK5uYWsp",
        "outputId": "2b0b5402-4353-4f18-f4c0-3d59b0cb13d7"
      },
      "execution_count": 75,
      "outputs": [
        {
          "output_type": "stream",
          "name": "stdout",
          "text": [
            "123abc.4567\n",
            "XYZ$89abc123 def%GHI\n",
            "xyz .ABC#i.\n",
            "\n",
            "<re.Match object; span=(6, 7), match='.'>\n",
            "<re.Match object; span=(11, 12), match='\\n'>\n",
            "<re.Match object; span=(15, 16), match='$'>\n",
            "<re.Match object; span=(24, 25), match=' '>\n",
            "<re.Match object; span=(28, 29), match='%'>\n",
            "<re.Match object; span=(32, 33), match='\\n'>\n",
            "<re.Match object; span=(36, 37), match=' '>\n",
            "<re.Match object; span=(37, 38), match='.'>\n",
            "<re.Match object; span=(41, 42), match='#'>\n",
            "<re.Match object; span=(43, 44), match='.'>\n"
          ]
        }
      ]
    },
    {
      "cell_type": "code",
      "source": [
        "# word boundery"
      ],
      "metadata": {
        "id": "uJkmjO0gYYxF"
      },
      "execution_count": 76,
      "outputs": []
    },
    {
      "cell_type": "code",
      "source": [
        "test_string_3"
      ],
      "metadata": {
        "colab": {
          "base_uri": "https://localhost:8080/",
          "height": 36
        },
        "id": "lIpdXxm4Yc_J",
        "outputId": "1a86fe7c-1b07-4f8d-e8b0-adf15c461c91"
      },
      "execution_count": 77,
      "outputs": [
        {
          "output_type": "execute_result",
          "data": {
            "text/plain": [
              "'heyhello 123_ heyho hohey'"
            ],
            "application/vnd.google.colaboratory.intrinsic+json": {
              "type": "string"
            }
          },
          "metadata": {},
          "execution_count": 77
        }
      ]
    },
    {
      "cell_type": "code",
      "source": [
        "pattern = re.compile(r\"hey\")\n",
        "\n",
        "matches = re.finditer(pattern, test_string_3)\n",
        "\n",
        "for match in matches:\n",
        "\tprint(match)"
      ],
      "metadata": {
        "colab": {
          "base_uri": "https://localhost:8080/"
        },
        "id": "UOZ74MP0YiFP",
        "outputId": "f0d398ce-2834-476e-9b23-c4fc496099cf"
      },
      "execution_count": 78,
      "outputs": [
        {
          "output_type": "stream",
          "name": "stdout",
          "text": [
            "<re.Match object; span=(0, 3), match='hey'>\n",
            "<re.Match object; span=(14, 17), match='hey'>\n",
            "<re.Match object; span=(22, 25), match='hey'>\n"
          ]
        }
      ]
    },
    {
      "cell_type": "code",
      "source": [
        "ttern, test_string_3)\n",
        "\n",
        "for match in matches:\n",
        "  print(match)pattern = re.compile(r\"\\bhey\\b\")\n",
        "  #pattern = re.compile(r\"hey\\b\")\n",
        "  #pattern = re.compile(r\"\\bhey\")\n",
        "\n",
        "  matches = re.finditer(pa"
      ],
      "metadata": {
        "colab": {
          "base_uri": "https://localhost:8080/",
          "height": 106
        },
        "id": "Bsz67TinYkl6",
        "outputId": "4e374b79-1b98-48d9-a985-d3387eb804cf"
      },
      "execution_count": 79,
      "outputs": [
        {
          "output_type": "error",
          "ename": "SyntaxError",
          "evalue": "unmatched ')' (<ipython-input-79-e73859cb809a>, line 1)",
          "traceback": [
            "\u001b[0;36m  File \u001b[0;32m\"<ipython-input-79-e73859cb809a>\"\u001b[0;36m, line \u001b[0;32m1\u001b[0m\n\u001b[0;31m    ttern, test_string_3)\u001b[0m\n\u001b[0m                        ^\u001b[0m\n\u001b[0;31mSyntaxError\u001b[0m\u001b[0;31m:\u001b[0m unmatched ')'\n"
          ]
        }
      ]
    },
    {
      "cell_type": "markdown",
      "source": [
        "6. Quantifiers"
      ],
      "metadata": {
        "id": "yUgoERWVZioL"
      }
    },
    {
      "cell_type": "code",
      "source": [
        "test_string_1 = \"no no noo nooo noooothing noo\"\n",
        "\n",
        "test_string_2 = \"The colour of the sky and the color of the ocean are different.\"\n",
        "\n",
        "test_string_3 = \"We can use either http or https to generate URLs.\"\n",
        "\n",
        "test_string_4 = \"aaXaaaXaaaaXaaaaaX\"\n",
        "\n",
        "test_string_5 = \"<div>First div</div><div>Second div</div>\""
      ],
      "metadata": {
        "id": "PJL2ttDtZkMA"
      },
      "execution_count": 80,
      "outputs": []
    },
    {
      "cell_type": "markdown",
      "source": [
        "6.1 Greedy"
      ],
      "metadata": {
        "id": "36MqA29EZpUF"
      }
    },
    {
      "cell_type": "code",
      "source": [
        "test_string_1"
      ],
      "metadata": {
        "colab": {
          "base_uri": "https://localhost:8080/",
          "height": 36
        },
        "id": "8vavhcENZpyO",
        "outputId": "a3765813-4b93-4820-fd42-6eb1a3d4e783"
      },
      "execution_count": 81,
      "outputs": [
        {
          "output_type": "execute_result",
          "data": {
            "text/plain": [
              "'no no noo nooo noooothing noo'"
            ],
            "application/vnd.google.colaboratory.intrinsic+json": {
              "type": "string"
            }
          },
          "metadata": {},
          "execution_count": 81
        }
      ]
    },
    {
      "cell_type": "code",
      "source": [
        "# * is for 0 or more occurences of preceding(pichewala) char\n",
        "pattern = re.compile(r\"noo*\")\n",
        "\n",
        "matches = re.finditer(pattern, test_string_1) # it will check if no(0-o), noo(1-o), nooo(2-o's) a.... and so on until string get terminated\n",
        "\n",
        "for match in matches:\n",
        "\tprint(match)"
      ],
      "metadata": {
        "colab": {
          "base_uri": "https://localhost:8080/"
        },
        "id": "y0LPqcXCZrf1",
        "outputId": "efac0c94-a197-497a-e07a-802552771123"
      },
      "execution_count": 82,
      "outputs": [
        {
          "output_type": "stream",
          "name": "stdout",
          "text": [
            "<re.Match object; span=(0, 2), match='no'>\n",
            "<re.Match object; span=(3, 5), match='no'>\n",
            "<re.Match object; span=(6, 9), match='noo'>\n",
            "<re.Match object; span=(10, 14), match='nooo'>\n",
            "<re.Match object; span=(15, 20), match='noooo'>\n",
            "<re.Match object; span=(26, 29), match='noo'>\n"
          ]
        }
      ]
    },
    {
      "cell_type": "code",
      "source": [
        "# + is for 1 or more occurences of preceding(pichewala) char\n",
        "pattern = re.compile(r\"noo+\")\n",
        "\n",
        "matches = re.finditer(pattern, test_string_1) # it will check if noo(1-o), nooo(2-o's) a.... and so on until string get terminated\n",
        "\n",
        "for match in matches:\n",
        "\tprint(match)"
      ],
      "metadata": {
        "colab": {
          "base_uri": "https://localhost:8080/"
        },
        "id": "O5dNdcRuZtY9",
        "outputId": "6b0beef2-564d-47d8-ceb1-38102a5206c7"
      },
      "execution_count": 83,
      "outputs": [
        {
          "output_type": "stream",
          "name": "stdout",
          "text": [
            "<re.Match object; span=(6, 9), match='noo'>\n",
            "<re.Match object; span=(10, 14), match='nooo'>\n",
            "<re.Match object; span=(15, 20), match='noooo'>\n",
            "<re.Match object; span=(26, 29), match='noo'>\n"
          ]
        }
      ]
    },
    {
      "cell_type": "code",
      "source": [
        "# ? is for 0 or 1 occurence of preceding(pichewala) char\n",
        "print(test_string_2, end=\"\\n\\n\")\n",
        "\n",
        "pattern = re.compile(r\"colou?r\") # colour, color/ if u is present none or once in string\n",
        "\n",
        "matches = re.finditer(pattern, test_string_2)\n",
        "\n",
        "for match in matches:\n",
        "\tprint(match)"
      ],
      "metadata": {
        "colab": {
          "base_uri": "https://localhost:8080/"
        },
        "id": "W88E1qHkZwH7",
        "outputId": "232f924d-652a-473f-ab1b-c2cdfad7bbc5"
      },
      "execution_count": 84,
      "outputs": [
        {
          "output_type": "stream",
          "name": "stdout",
          "text": [
            "The colour of the sky and the color of the ocean are different.\n",
            "\n",
            "<re.Match object; span=(4, 10), match='colour'>\n",
            "<re.Match object; span=(30, 35), match='color'>\n"
          ]
        }
      ]
    },
    {
      "cell_type": "code",
      "source": [
        "#2nd example of using greedy qunatifier '?'\n",
        "print(test_string_3, end=\"\\n\\n\")\n",
        "\n",
        "pattern = re.compile(r\"https?\") # http, https\n",
        "\n",
        "matches = re.finditer(pattern, test_string_3)\n",
        "\n",
        "for match in matches:\n",
        "\tprint(match)"
      ],
      "metadata": {
        "colab": {
          "base_uri": "https://localhost:8080/"
        },
        "id": "E7nWHQ-OZx_j",
        "outputId": "421137eb-455a-4950-b675-c07570ab2f47"
      },
      "execution_count": 85,
      "outputs": [
        {
          "output_type": "stream",
          "name": "stdout",
          "text": [
            "We can use either http or https to generate URLs.\n",
            "\n",
            "<re.Match object; span=(18, 22), match='http'>\n",
            "<re.Match object; span=(26, 31), match='https'>\n"
          ]
        }
      ]
    },
    {
      "cell_type": "code",
      "source": [
        "# {n} search for exactly n number of occurences in string\n",
        "test_string_4 = 'aaXaaaXaaaaXaaaaaaX'\n",
        "print(test_string_4, end=\"\\n\\n\")\n",
        "\n",
        "pattern = re.compile(r\"a{3}\") # it will search for a's occurring continously thrice\n",
        "\n",
        "matches = re.finditer(pattern, test_string_4)\n",
        "\n",
        "for match in matches:\n",
        "\tprint(match)"
      ],
      "metadata": {
        "colab": {
          "base_uri": "https://localhost:8080/"
        },
        "id": "f0Ud2yvYZ0ZW",
        "outputId": "9d31930e-f555-48f5-8e1f-88bcd7f0469b"
      },
      "execution_count": 86,
      "outputs": [
        {
          "output_type": "stream",
          "name": "stdout",
          "text": [
            "aaXaaaXaaaaXaaaaaaX\n",
            "\n",
            "<re.Match object; span=(3, 6), match='aaa'>\n",
            "<re.Match object; span=(7, 10), match='aaa'>\n",
            "<re.Match object; span=(12, 15), match='aaa'>\n",
            "<re.Match object; span=(15, 18), match='aaa'>\n"
          ]
        }
      ]
    },
    {
      "cell_type": "code",
      "source": [
        "# {n,m} search for exactly at least n and at most m number of occurences in string\n",
        "print(test_string_4, end=\"\\n\\n\")\n",
        "\n",
        "pattern = re.compile(r\"a{2,5}\") # first search if a is present 5 times or 4 times or 3 or 2\n",
        "\n",
        "matches = re.finditer(pattern, test_string_4)\n",
        "\n",
        "for match in matches:\n",
        "\tprint(match)"
      ],
      "metadata": {
        "colab": {
          "base_uri": "https://localhost:8080/"
        },
        "id": "-Stu6jgxZ3D_",
        "outputId": "290de992-31e9-47ff-8d22-fa30ee35646a"
      },
      "execution_count": 88,
      "outputs": [
        {
          "output_type": "stream",
          "name": "stdout",
          "text": [
            "aaXaaaXaaaaXaaaaaaX\n",
            "\n",
            "<re.Match object; span=(0, 2), match='aa'>\n",
            "<re.Match object; span=(3, 6), match='aaa'>\n",
            "<re.Match object; span=(7, 11), match='aaaa'>\n",
            "<re.Match object; span=(12, 17), match='aaaaa'>\n"
          ]
        }
      ]
    },
    {
      "cell_type": "markdown",
      "source": [
        "6.2 Lazy"
      ],
      "metadata": {
        "id": "fqIvvvHaZ9k5"
      }
    },
    {
      "cell_type": "code",
      "source": [
        "# ? after greedy quantifier search for minimum number of occurrence of that pattern in string\n",
        "print(test_string_1, end=\"\\n\\n\")\n",
        "\n",
        "pattern = re.compile(r\"noo*?\") # ? after greedy quantifier search is equivalent to lazy\n",
        "\"\"\"\n",
        "it will search for no first and return them only if found other it will search for noo  and\n",
        "terminate if found otherwise nooo\n",
        "\"\"\"\n",
        "\n",
        "matches = re.finditer(pattern, test_string_1)\n",
        "\n",
        "for match in matches:\n",
        "\tprint(match)"
      ],
      "metadata": {
        "colab": {
          "base_uri": "https://localhost:8080/"
        },
        "id": "oja2t9LtZ-NB",
        "outputId": "a7af3ba1-4eaf-40c5-887e-1ff99021810c"
      },
      "execution_count": 89,
      "outputs": [
        {
          "output_type": "stream",
          "name": "stdout",
          "text": [
            "no no noo nooo noooothing noo\n",
            "\n",
            "<re.Match object; span=(0, 2), match='no'>\n",
            "<re.Match object; span=(3, 5), match='no'>\n",
            "<re.Match object; span=(6, 8), match='no'>\n",
            "<re.Match object; span=(10, 12), match='no'>\n",
            "<re.Match object; span=(15, 17), match='no'>\n",
            "<re.Match object; span=(26, 28), match='no'>\n"
          ]
        }
      ]
    },
    {
      "cell_type": "code",
      "source": [
        "#{n,m}?\n",
        "print(test_string_4, end=\"\\n\\n\")\n",
        "\n",
        "pattern = re.compile(r\"a{2,5}?\") # {n,m} search for n till m , ? after that tells it is a lazy quantifier so it will search for 2 first then if not terminated then 3..4..5 and terminate\n",
        "#❗❗ difference in greedy and lazy qunatifier here\n",
        "matches = re.finditer(pattern, test_string_4)\n",
        "\n",
        "for match in matches:\n",
        "\tprint(match)"
      ],
      "metadata": {
        "colab": {
          "base_uri": "https://localhost:8080/"
        },
        "id": "sGdRdXiDaAZ2",
        "outputId": "6439a8fb-8dd9-4c37-dc76-480f2cd54d2d"
      },
      "execution_count": 90,
      "outputs": [
        {
          "output_type": "stream",
          "name": "stdout",
          "text": [
            "aaXaaaXaaaaXaaaaaaX\n",
            "\n",
            "<re.Match object; span=(0, 2), match='aa'>\n",
            "<re.Match object; span=(3, 5), match='aa'>\n",
            "<re.Match object; span=(7, 9), match='aa'>\n",
            "<re.Match object; span=(9, 11), match='aa'>\n",
            "<re.Match object; span=(12, 14), match='aa'>\n",
            "<re.Match object; span=(14, 16), match='aa'>\n",
            "<re.Match object; span=(16, 18), match='aa'>\n"
          ]
        }
      ]
    },
    {
      "cell_type": "code",
      "source": [
        "print(test_string_5, end=\"\\n\\n\")\n",
        "\n",
        "pattern = re.compile(r\"<\\w+>.*</\\w+>\") # \\w search for alphanumeric characters .* will tell to match any number of occurence\n",
        "\n",
        "matches = re.findall(pattern, test_string_5)\n",
        "matches"
      ],
      "metadata": {
        "colab": {
          "base_uri": "https://localhost:8080/"
        },
        "id": "OwyEfPblaLAX",
        "outputId": "089f0c84-f723-492b-fc7c-4943aecec5e0"
      },
      "execution_count": 91,
      "outputs": [
        {
          "output_type": "stream",
          "name": "stdout",
          "text": [
            "<div>First div</div><div>Second div</div>\n",
            "\n"
          ]
        },
        {
          "output_type": "execute_result",
          "data": {
            "text/plain": [
              "['<div>First div</div><div>Second div</div>']"
            ]
          },
          "metadata": {},
          "execution_count": 91
        }
      ]
    },
    {
      "cell_type": "code",
      "source": [
        "print(test_string_5, end=\"\\n\\n\")\n",
        "\n",
        "pattern = re.compile(r\"<\\w+>.*?</\\w+>\") # \\w search for alphanumeric characters .* will tell to match 0 or 1 number of occurence\n",
        "\n",
        "matches = re.findall(pattern, test_string_5)\n",
        "matches"
      ],
      "metadata": {
        "colab": {
          "base_uri": "https://localhost:8080/"
        },
        "id": "Mqjq9ldDaNU6",
        "outputId": "e3dd588a-51a1-4911-cb96-5b11ea2e54ce"
      },
      "execution_count": 92,
      "outputs": [
        {
          "output_type": "stream",
          "name": "stdout",
          "text": [
            "<div>First div</div><div>Second div</div>\n",
            "\n"
          ]
        },
        {
          "output_type": "execute_result",
          "data": {
            "text/plain": [
              "['<div>First div</div>', '<div>Second div</div>']"
            ]
          },
          "metadata": {},
          "execution_count": 92
        }
      ]
    },
    {
      "cell_type": "code",
      "source": [],
      "metadata": {
        "id": "geDYMBgAaP2h"
      },
      "execution_count": null,
      "outputs": []
    }
  ]
}