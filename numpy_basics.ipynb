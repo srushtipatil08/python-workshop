{
  "cells": [
    {
      "cell_type": "markdown",
      "metadata": {
        "id": "view-in-github",
        "colab_type": "text"
      },
      "source": [
        "<a href=\"https://colab.research.google.com/github/srushtipatil08/python-workshop/blob/main/numpy_basics.ipynb\" target=\"_parent\"><img src=\"https://colab.research.google.com/assets/colab-badge.svg\" alt=\"Open In Colab\"/></a>"
      ]
    },
    {
      "cell_type": "markdown",
      "metadata": {
        "id": "u6ibUAi2RMSP"
      },
      "source": [
        "### Importing Numpy"
      ]
    },
    {
      "cell_type": "code",
      "execution_count": null,
      "metadata": {
        "id": "tsfgFBAXRMSR"
      },
      "outputs": [],
      "source": [
        "import numpy as np"
      ]
    },
    {
      "cell_type": "markdown",
      "metadata": {
        "id": "0PyrZ724szaG"
      },
      "source": [
        "### Creating Numpy Arrays"
      ]
    },
    {
      "cell_type": "code",
      "execution_count": null,
      "metadata": {
        "colab": {
          "base_uri": "https://localhost:8080/"
        },
        "id": "V4AVNXrts3sL",
        "outputId": "66faa146-17e6-43bd-e4f2-f702d5079114"
      },
      "outputs": [
        {
          "output_type": "stream",
          "name": "stdout",
          "text": [
            "[1 2 3]\n"
          ]
        }
      ],
      "source": [
        "# np.array\n",
        "import numpy as np\n",
        "\n",
        "a = np.array([1,2,3])\n",
        "print(a)"
      ]
    },
    {
      "cell_type": "code",
      "execution_count": null,
      "metadata": {
        "colab": {
          "base_uri": "https://localhost:8080/"
        },
        "id": "AAfxD1kCs6R5",
        "outputId": "71fb31d4-8112-436e-c528-6bf1d262fee9"
      },
      "outputs": [
        {
          "output_type": "stream",
          "name": "stdout",
          "text": [
            "[[1 2 3]\n",
            " [4 5 6]]\n"
          ]
        }
      ],
      "source": [
        "# 2D and 3D\n",
        "b = np.array([[1,2,3],[4,5,6]])\n",
        "print(b)"
      ]
    },
    {
      "cell_type": "code",
      "execution_count": null,
      "metadata": {
        "colab": {
          "base_uri": "https://localhost:8080/"
        },
        "id": "MyrHdd6J6CrF",
        "outputId": "2b66428b-5117-4a62-c175-471a66c167cf"
      },
      "outputs": [
        {
          "output_type": "stream",
          "name": "stdout",
          "text": [
            "[[[1 2]\n",
            "  [3 4]]\n",
            "\n",
            " [[5 6]\n",
            "  [7 8]]]\n"
          ]
        }
      ],
      "source": [
        "c = np.array([[[1,2],[3,4]],[[5,6],[7,8]]])\n",
        "print(c)"
      ]
    },
    {
      "cell_type": "code",
      "execution_count": null,
      "metadata": {
        "colab": {
          "base_uri": "https://localhost:8080/"
        },
        "id": "FM8AwUOdFqC7",
        "outputId": "66dbf3b6-4930-431d-b1e5-55c1d8bde9cf"
      },
      "outputs": [
        {
          "output_type": "execute_result",
          "data": {
            "text/plain": [
              "array([1., 2., 3.])"
            ]
          },
          "metadata": {},
          "execution_count": 7
        }
      ],
      "source": [
        "# dtype\n",
        "np.array([1,2,3],dtype=float)"
      ]
    },
    {
      "cell_type": "code",
      "execution_count": null,
      "metadata": {
        "colab": {
          "base_uri": "https://localhost:8080/"
        },
        "id": "unQ6yESdRMSU",
        "outputId": "aa232226-4e25-4d83-9221-6487ed636033"
      },
      "outputs": [
        {
          "output_type": "stream",
          "name": "stdout",
          "text": [
            "[1 2 3]\n",
            "uint8\n",
            "[1.+0.j 2.+0.j 3.+0.j]\n",
            "complex128\n"
          ]
        }
      ],
      "source": [
        "a = np.array([1, 2, 3], dtype=np.uint8)\n",
        "print(a)\n",
        "print(a.dtype)\n",
        "\n",
        "\n",
        "b = np.array([1, 2, 3], dtype=complex)\n",
        "print(b)\n",
        "print(b.dtype)\n"
      ]
    },
    {
      "cell_type": "code",
      "execution_count": null,
      "metadata": {
        "colab": {
          "base_uri": "https://localhost:8080/"
        },
        "id": "ZY187Au_s8vm",
        "outputId": "7a043952-6150-4795-b41e-299541e6d7c7"
      },
      "outputs": [
        {
          "output_type": "execute_result",
          "data": {
            "text/plain": [
              "array([1, 3, 5, 7, 9])"
            ]
          },
          "metadata": {},
          "execution_count": 9
        }
      ],
      "source": [
        "# np.arange\n",
        "np.arange(1,11,2)"
      ]
    },
    {
      "cell_type": "code",
      "execution_count": null,
      "metadata": {
        "colab": {
          "base_uri": "https://localhost:8080/"
        },
        "id": "3Gc7BaJZwl7e",
        "outputId": "4f726580-6bb0-4ba3-d082-0654c8d1bec4"
      },
      "outputs": [
        {
          "output_type": "execute_result",
          "data": {
            "text/plain": [
              "array([[[[ 0,  1],\n",
              "         [ 2,  3]],\n",
              "\n",
              "        [[ 4,  5],\n",
              "         [ 6,  7]]],\n",
              "\n",
              "\n",
              "       [[[ 8,  9],\n",
              "         [10, 11]],\n",
              "\n",
              "        [[12, 13],\n",
              "         [14, 15]]]])"
            ]
          },
          "metadata": {},
          "execution_count": 10
        }
      ],
      "source": [
        "# with reshape\n",
        "np.arange(16).reshape(2,2,2,2)"
      ]
    },
    {
      "cell_type": "code",
      "execution_count": null,
      "metadata": {
        "colab": {
          "base_uri": "https://localhost:8080/"
        },
        "id": "R2BYpYcGs-9l",
        "outputId": "515d907f-ff76-40d4-89d2-c499d350e974"
      },
      "outputs": [
        {
          "output_type": "execute_result",
          "data": {
            "text/plain": [
              "array([[1., 1., 1., 1.],\n",
              "       [1., 1., 1., 1.],\n",
              "       [1., 1., 1., 1.]])"
            ]
          },
          "metadata": {},
          "execution_count": 11
        }
      ],
      "source": [
        "# np.ones and np.zeros\n",
        "np.ones((3,4))"
      ]
    },
    {
      "cell_type": "code",
      "execution_count": null,
      "metadata": {
        "colab": {
          "base_uri": "https://localhost:8080/"
        },
        "id": "vOjv_Euj8HGR",
        "outputId": "7e6dd2a8-4eec-4114-fd51-d2bef7a84f11"
      },
      "outputs": [
        {
          "output_type": "execute_result",
          "data": {
            "text/plain": [
              "array([[0., 0., 0., 0.],\n",
              "       [0., 0., 0., 0.],\n",
              "       [0., 0., 0., 0.]])"
            ]
          },
          "metadata": {},
          "execution_count": 12
        }
      ],
      "source": [
        "np.zeros((3,4))"
      ]
    },
    {
      "cell_type": "code",
      "execution_count": null,
      "metadata": {
        "colab": {
          "base_uri": "https://localhost:8080/"
        },
        "id": "fYEeYi7itCRM",
        "outputId": "6287c956-df9f-4107-dbb6-3fcd2152faa2"
      },
      "outputs": [
        {
          "output_type": "execute_result",
          "data": {
            "text/plain": [
              "array([[0.67010168, 0.45245048, 0.92457924, 0.48731316],\n",
              "       [0.01495259, 0.96932532, 0.08708906, 0.83976359],\n",
              "       [0.51099301, 0.57072075, 0.88404354, 0.8057326 ]])"
            ]
          },
          "metadata": {},
          "execution_count": 13
        }
      ],
      "source": [
        "# np.random\n",
        "np.random.random((3,4))"
      ]
    },
    {
      "cell_type": "code",
      "execution_count": null,
      "metadata": {
        "colab": {
          "base_uri": "https://localhost:8080/"
        },
        "id": "vel7WrgltE3P",
        "outputId": "8274fff3-1d57-4a27-c237-9597521c1539"
      },
      "outputs": [
        {
          "output_type": "execute_result",
          "data": {
            "text/plain": [
              "array([-10,  -8,  -6,  -4,  -2,   1,   3,   5,   7,  10])"
            ]
          },
          "metadata": {},
          "execution_count": 14
        }
      ],
      "source": [
        "# np.linspace\n",
        "np.linspace(-10,10,10,dtype=int)"
      ]
    },
    {
      "cell_type": "code",
      "execution_count": null,
      "metadata": {
        "colab": {
          "base_uri": "https://localhost:8080/"
        },
        "id": "ewyMuXh1tJzi",
        "outputId": "677c2bdb-a256-4be3-fddf-54ce0662205b"
      },
      "outputs": [
        {
          "output_type": "execute_result",
          "data": {
            "text/plain": [
              "array([[1., 0., 0.],\n",
              "       [0., 1., 0.],\n",
              "       [0., 0., 1.]])"
            ]
          },
          "metadata": {},
          "execution_count": 15
        }
      ],
      "source": [
        "# np.identity\n",
        "np.identity(3)"
      ]
    },
    {
      "cell_type": "markdown",
      "metadata": {
        "id": "LphXpjZJtNyI"
      },
      "source": [
        "### Array Attributes"
      ]
    },
    {
      "cell_type": "code",
      "execution_count": null,
      "metadata": {
        "colab": {
          "base_uri": "https://localhost:8080/"
        },
        "id": "UXnB5dIEFOgD",
        "outputId": "8727b772-fd08-4645-8f6f-460185d76042"
      },
      "outputs": [
        {
          "output_type": "execute_result",
          "data": {
            "text/plain": [
              "array([[[0, 1],\n",
              "        [2, 3]],\n",
              "\n",
              "       [[4, 5],\n",
              "        [6, 7]]])"
            ]
          },
          "metadata": {},
          "execution_count": 16
        }
      ],
      "source": [
        "a1 = np.arange(10,dtype=np.int32)\n",
        "a2 = np.arange(12,dtype=float).reshape(3,4)\n",
        "a3 = np.arange(8).reshape(2,2,2)\n",
        "\n",
        "a3"
      ]
    },
    {
      "cell_type": "code",
      "execution_count": null,
      "metadata": {
        "colab": {
          "base_uri": "https://localhost:8080/"
        },
        "id": "qib4oDFptRKN",
        "outputId": "96356c42-b239-420a-f88d-8b1dd7ea1b4f"
      },
      "outputs": [
        {
          "output_type": "execute_result",
          "data": {
            "text/plain": [
              "3"
            ]
          },
          "metadata": {},
          "execution_count": 17
        }
      ],
      "source": [
        "# ndim\n",
        "a3.ndim"
      ]
    },
    {
      "cell_type": "code",
      "execution_count": null,
      "metadata": {
        "colab": {
          "base_uri": "https://localhost:8080/"
        },
        "id": "InUvH8KGtSRv",
        "outputId": "3ad941a4-14b5-4e2a-98be-4e2970d65ef5"
      },
      "outputs": [
        {
          "output_type": "stream",
          "name": "stdout",
          "text": [
            "(2, 2, 2)\n"
          ]
        },
        {
          "output_type": "execute_result",
          "data": {
            "text/plain": [
              "array([[[0, 1],\n",
              "        [2, 3]],\n",
              "\n",
              "       [[4, 5],\n",
              "        [6, 7]]])"
            ]
          },
          "metadata": {},
          "execution_count": 18
        }
      ],
      "source": [
        "# shape\n",
        "print(a3.shape)\n",
        "a3"
      ]
    },
    {
      "cell_type": "code",
      "execution_count": null,
      "metadata": {
        "colab": {
          "base_uri": "https://localhost:8080/"
        },
        "id": "9Dko5610tT-Z",
        "outputId": "2ad00d4c-d008-4744-84aa-77deb31c23d8"
      },
      "outputs": [
        {
          "output_type": "stream",
          "name": "stdout",
          "text": [
            "12\n"
          ]
        },
        {
          "output_type": "execute_result",
          "data": {
            "text/plain": [
              "array([[ 0.,  1.,  2.,  3.],\n",
              "       [ 4.,  5.,  6.,  7.],\n",
              "       [ 8.,  9., 10., 11.]])"
            ]
          },
          "metadata": {},
          "execution_count": 19
        }
      ],
      "source": [
        "# size\n",
        "print(a2.size)\n",
        "a2"
      ]
    },
    {
      "cell_type": "code",
      "execution_count": null,
      "metadata": {
        "colab": {
          "base_uri": "https://localhost:8080/"
        },
        "id": "wDFdHtH3tV1Z",
        "outputId": "11daf0b5-7b74-49d5-a37a-a563708438ac"
      },
      "outputs": [
        {
          "output_type": "execute_result",
          "data": {
            "text/plain": [
              "8"
            ]
          },
          "metadata": {},
          "execution_count": 20
        }
      ],
      "source": [
        "# itemsize\n",
        "a3.itemsize"
      ]
    },
    {
      "cell_type": "code",
      "execution_count": null,
      "metadata": {
        "colab": {
          "base_uri": "https://localhost:8080/"
        },
        "id": "Pik7FgEVtXDj",
        "outputId": "89830f0f-6c85-4f64-eb88-1c84e26c750d"
      },
      "outputs": [
        {
          "output_type": "stream",
          "name": "stdout",
          "text": [
            "int32\n",
            "float64\n",
            "int64\n"
          ]
        }
      ],
      "source": [
        "# dtype\n",
        "print(a1.dtype)\n",
        "print(a2.dtype)\n",
        "print(a3.dtype)\n",
        "\n"
      ]
    },
    {
      "cell_type": "markdown",
      "metadata": {
        "id": "7Ase0eFWtcFl"
      },
      "source": [
        "### Changing Datatype"
      ]
    },
    {
      "cell_type": "code",
      "execution_count": null,
      "metadata": {
        "colab": {
          "base_uri": "https://localhost:8080/"
        },
        "id": "DZPEFqhotbFS",
        "outputId": "736c5f4c-7593-4ae7-89b9-2b9d69c77358"
      },
      "outputs": [
        {
          "output_type": "execute_result",
          "data": {
            "text/plain": [
              "array([[[0, 1],\n",
              "        [2, 3]],\n",
              "\n",
              "       [[4, 5],\n",
              "        [6, 7]]], dtype=int32)"
            ]
          },
          "metadata": {},
          "execution_count": 22
        }
      ],
      "source": [
        "# astype\n",
        "a3.astype(np.int32)"
      ]
    },
    {
      "cell_type": "markdown",
      "metadata": {
        "id": "k-y-aaV9u52l"
      },
      "source": [
        "### Array Operations"
      ]
    },
    {
      "cell_type": "code",
      "execution_count": null,
      "metadata": {
        "colab": {
          "base_uri": "https://localhost:8080/"
        },
        "id": "mIk8tk53HnOW",
        "outputId": "5c7d42c5-5ebc-475f-c3a5-0e8f20d2c065"
      },
      "outputs": [
        {
          "output_type": "execute_result",
          "data": {
            "text/plain": [
              "array([[12, 13, 14, 15],\n",
              "       [16, 17, 18, 19],\n",
              "       [20, 21, 22, 23]])"
            ]
          },
          "metadata": {},
          "execution_count": 23
        }
      ],
      "source": [
        "a1 = np.arange(12).reshape(3,4)\n",
        "a2 = np.arange(12,24).reshape(3,4)\n",
        "\n",
        "a2"
      ]
    },
    {
      "cell_type": "code",
      "execution_count": null,
      "metadata": {
        "colab": {
          "base_uri": "https://localhost:8080/"
        },
        "id": "vtQrWQKD87Fn",
        "outputId": "5b367d2e-d78b-4f74-d177-3ee67a6b65d8"
      },
      "outputs": [
        {
          "output_type": "execute_result",
          "data": {
            "text/plain": [
              "array([[  0,   1,   4,   9],\n",
              "       [ 16,  25,  36,  49],\n",
              "       [ 64,  81, 100, 121]])"
            ]
          },
          "metadata": {},
          "execution_count": 24
        }
      ],
      "source": [
        "# scalar operations\n",
        "\n",
        "# arithmetic\n",
        "a1 ** 2"
      ]
    },
    {
      "cell_type": "code",
      "execution_count": null,
      "metadata": {
        "colab": {
          "base_uri": "https://localhost:8080/"
        },
        "id": "mCgPxTzQrtte",
        "outputId": "9bf49334-c5e3-43c7-92b8-02e1db915052"
      },
      "outputs": [
        {
          "output_type": "execute_result",
          "data": {
            "text/plain": [
              "array([[False, False, False,  True],\n",
              "       [False, False, False, False],\n",
              "       [False, False, False, False]])"
            ]
          },
          "metadata": {},
          "execution_count": 25
        }
      ],
      "source": [
        "# relational\n",
        "a2 == 15"
      ]
    },
    {
      "cell_type": "code",
      "execution_count": null,
      "metadata": {
        "colab": {
          "base_uri": "https://localhost:8080/"
        },
        "id": "E2S3xDRxrt5D",
        "outputId": "48003e99-7c11-411e-e5e8-a62d68f1bc0d"
      },
      "outputs": [
        {
          "output_type": "execute_result",
          "data": {
            "text/plain": [
              "array([[                   0,                    1,                16384,\n",
              "                    14348907],\n",
              "       [          4294967296,         762939453125,      101559956668416,\n",
              "           11398895185373143],\n",
              "       [ 1152921504606846976, -1261475310744950487,  1864712049423024128,\n",
              "         6839173302027254275]])"
            ]
          },
          "metadata": {},
          "execution_count": 26
        }
      ],
      "source": [
        "# vector operations\n",
        "# arithmetic\n",
        "a1 ** a2"
      ]
    },
    {
      "cell_type": "markdown",
      "metadata": {
        "id": "AQZgntYTu8ot"
      },
      "source": [
        "### Array Functions"
      ]
    },
    {
      "cell_type": "code",
      "execution_count": null,
      "metadata": {
        "colab": {
          "base_uri": "https://localhost:8080/"
        },
        "id": "CHUj0a_dIP4F",
        "outputId": "d4342215-bb32-46b4-d53c-518bfe863929"
      },
      "outputs": [
        {
          "output_type": "execute_result",
          "data": {
            "text/plain": [
              "array([[92.,  3., 20.],\n",
              "       [29., 53., 42.],\n",
              "       [41., 27., 96.]])"
            ]
          },
          "metadata": {},
          "execution_count": 27
        }
      ],
      "source": [
        "a1 = np.random.random((3,3))\n",
        "a1 = np.round(a1*100)\n",
        "a1"
      ]
    },
    {
      "cell_type": "code",
      "execution_count": null,
      "metadata": {
        "colab": {
          "base_uri": "https://localhost:8080/"
        },
        "id": "J1EWNET29Urx",
        "outputId": "e6333efe-cdfb-4458-fd4a-0e94483ebd6f"
      },
      "outputs": [
        {
          "output_type": "execute_result",
          "data": {
            "text/plain": [
              "array([109388.,   4293.,  80640.])"
            ]
          },
          "metadata": {},
          "execution_count": 28
        }
      ],
      "source": [
        "# max/min/sum/prod\n",
        "# 0 -> col and 1 -> row\n",
        "np.prod(a1,axis=0)"
      ]
    },
    {
      "cell_type": "code",
      "execution_count": null,
      "metadata": {
        "colab": {
          "base_uri": "https://localhost:8080/"
        },
        "id": "JAlMLFkds9KC",
        "outputId": "5203d6f6-16c4-4c20-8e91-94f015b19ff3"
      },
      "outputs": [
        {
          "output_type": "execute_result",
          "data": {
            "text/plain": [
              "array([1488.22222222,   96.22222222,  886.88888889])"
            ]
          },
          "metadata": {},
          "execution_count": 29
        }
      ],
      "source": [
        "# mean/median/std/var\n",
        "np.var(a1,axis=1)"
      ]
    },
    {
      "cell_type": "code",
      "execution_count": null,
      "metadata": {
        "colab": {
          "base_uri": "https://localhost:8080/"
        },
        "id": "vwLoQQVqs-m-",
        "outputId": "7ff6cbb8-a0a5-4d49-83ea-6798ee0ea8b4"
      },
      "outputs": [
        {
          "output_type": "execute_result",
          "data": {
            "text/plain": [
              "array([[-0.77946607,  0.14112001,  0.91294525],\n",
              "       [-0.66363388,  0.39592515, -0.91652155],\n",
              "       [-0.15862267,  0.95637593,  0.98358775]])"
            ]
          },
          "metadata": {},
          "execution_count": 30
        }
      ],
      "source": [
        "# trigonomoetric functions\n",
        "np.sin(a1)"
      ]
    },
    {
      "cell_type": "code",
      "execution_count": null,
      "metadata": {
        "colab": {
          "base_uri": "https://localhost:8080/"
        },
        "id": "x34ipDXRRMSY",
        "outputId": "5548d8c2-6418-4215-c964-61df65c72741"
      },
      "outputs": [
        {
          "output_type": "stream",
          "name": "stdout",
          "text": [
            "Angles in degrees: [ 0 30 45 60 90]\n",
            "Angles in radians: [0.         0.52359878 0.78539816 1.04719755 1.57079633]\n",
            "Sine: [0.         0.5        0.70710678 0.8660254  1.        ]\n",
            "Cosine: [1.00000000e+00 8.66025404e-01 7.07106781e-01 5.00000000e-01\n",
            " 6.12323400e-17]\n",
            "Tangent: [0.00000000e+00 5.77350269e-01 1.00000000e+00 1.73205081e+00\n",
            " 1.63312394e+16]\n"
          ]
        }
      ],
      "source": [
        "# Angle array in degrees\n",
        "angles_deg = np.array([0, 30, 45, 60, 90])\n",
        "# Convert to radians\n",
        "angles_rad = np.deg2rad(angles_deg)\n",
        "\n",
        "print(\"Angles in degrees:\", angles_deg)\n",
        "print(\"Angles in radians:\", angles_rad)\n",
        "\n",
        "print(\"Sine:\", np.sin(angles_rad))\n",
        "print(\"Cosine:\", np.cos(angles_rad))\n",
        "print(\"Tangent:\", np.tan(angles_rad))"
      ]
    },
    {
      "cell_type": "code",
      "execution_count": null,
      "metadata": {
        "colab": {
          "base_uri": "https://localhost:8080/"
        },
        "id": "RoEtYuiytFm1",
        "outputId": "d155441b-14bc-4531-cf3d-2a3a652dab83"
      },
      "outputs": [
        {
          "output_type": "execute_result",
          "data": {
            "text/plain": [
              "array([[114, 120, 126],\n",
              "       [378, 400, 422],\n",
              "       [642, 680, 718]])"
            ]
          },
          "metadata": {},
          "execution_count": 32
        }
      ],
      "source": [
        "# dot product\n",
        "a2 = np.arange(12).reshape(3,4)\n",
        "a3 = np.arange(12,24).reshape(4,3)\n",
        "\n",
        "np.dot(a2,a3)"
      ]
    },
    {
      "cell_type": "code",
      "source": [
        "a1"
      ],
      "metadata": {
        "colab": {
          "base_uri": "https://localhost:8080/"
        },
        "id": "isE2sqzV1SCz",
        "outputId": "b11bd4cb-eeee-4901-8742-2027d8c928bd"
      },
      "execution_count": null,
      "outputs": [
        {
          "output_type": "execute_result",
          "data": {
            "text/plain": [
              "array([[92.,  3., 20.],\n",
              "       [29., 53., 42.],\n",
              "       [41., 27., 96.]])"
            ]
          },
          "metadata": {},
          "execution_count": 33
        }
      ]
    },
    {
      "cell_type": "code",
      "execution_count": null,
      "metadata": {
        "colab": {
          "base_uri": "https://localhost:8080/"
        },
        "id": "qd7GmrgEtH6i",
        "outputId": "4e3357b2-27b7-4678-bca0-b0629f867531"
      },
      "outputs": [
        {
          "output_type": "execute_result",
          "data": {
            "text/plain": [
              "array([[9.01762841e+39, 2.00855369e+01, 4.85165195e+08],\n",
              "       [3.93133430e+12, 1.04137594e+23, 1.73927494e+18],\n",
              "       [6.39843494e+17, 5.32048241e+11, 4.92345829e+41]])"
            ]
          },
          "metadata": {},
          "execution_count": 34
        }
      ],
      "source": [
        "# log and exponents\n",
        "np.exp(a1)   #e**a1  e=2.718"
      ]
    },
    {
      "cell_type": "code",
      "execution_count": null,
      "metadata": {
        "colab": {
          "base_uri": "https://localhost:8080/"
        },
        "id": "EOXnVCZhtKk1",
        "outputId": "98cd194a-bec8-4269-dcaa-b60e76e63b64"
      },
      "outputs": [
        {
          "output_type": "execute_result",
          "data": {
            "text/plain": [
              "array([[14., 74., 27.],\n",
              "       [62., 52., 10.]])"
            ]
          },
          "metadata": {},
          "execution_count": 35
        }
      ],
      "source": [
        "# round/floor/ceil\n",
        "\n",
        "np.ceil(np.random.random((2,3))*100)"
      ]
    },
    {
      "cell_type": "markdown",
      "metadata": {
        "id": "2pYZJMrAuvuv"
      },
      "source": [
        "### Indexing and Slicing"
      ]
    },
    {
      "cell_type": "code",
      "execution_count": null,
      "metadata": {
        "colab": {
          "base_uri": "https://localhost:8080/"
        },
        "id": "v1LynzX9u2R-",
        "outputId": "b23a9a60-8f73-4526-cce5-5d650cf7a2bc"
      },
      "outputs": [
        {
          "output_type": "execute_result",
          "data": {
            "text/plain": [
              "array([[12, 13, 14],\n",
              "       [15, 16, 17],\n",
              "       [18, 19, 20],\n",
              "       [21, 22, 23]])"
            ]
          },
          "metadata": {},
          "execution_count": 36
        }
      ],
      "source": [
        "\n",
        "\n",
        "a3"
      ]
    },
    {
      "cell_type": "code",
      "execution_count": null,
      "metadata": {
        "colab": {
          "base_uri": "https://localhost:8080/"
        },
        "id": "qyFbwR9Ku2YE",
        "outputId": "79f21492-50ae-426d-c365-379614c9c064"
      },
      "outputs": [
        {
          "output_type": "execute_result",
          "data": {
            "text/plain": [
              "array([[92.,  3., 20.],\n",
              "       [29., 53., 42.],\n",
              "       [41., 27., 96.]])"
            ]
          },
          "metadata": {},
          "execution_count": 37
        }
      ],
      "source": [
        "a1"
      ]
    },
    {
      "cell_type": "code",
      "execution_count": null,
      "metadata": {
        "colab": {
          "base_uri": "https://localhost:8080/"
        },
        "id": "Q2IbBdEXu2a5",
        "outputId": "653cbb56-95b3-40c2-c637-c53980d4da06"
      },
      "outputs": [
        {
          "output_type": "execute_result",
          "data": {
            "text/plain": [
              "array([[ 0,  1,  2,  3],\n",
              "       [ 4,  5,  6,  7],\n",
              "       [ 8,  9, 10, 11]])"
            ]
          },
          "metadata": {},
          "execution_count": 38
        }
      ],
      "source": [
        "a2"
      ]
    },
    {
      "cell_type": "code",
      "execution_count": null,
      "metadata": {
        "colab": {
          "base_uri": "https://localhost:8080/"
        },
        "id": "GIR5YhVzu2dc",
        "outputId": "e0726c6e-6010-4cd9-a7d8-8523b5e84c91"
      },
      "outputs": [
        {
          "output_type": "execute_result",
          "data": {
            "text/plain": [
              "np.int64(4)"
            ]
          },
          "metadata": {},
          "execution_count": 39
        }
      ],
      "source": [
        "a2[1,0]"
      ]
    },
    {
      "cell_type": "code",
      "execution_count": null,
      "metadata": {
        "colab": {
          "base_uri": "https://localhost:8080/"
        },
        "id": "IbM-KNY3HP9-",
        "outputId": "7fc8dddb-e6e7-4c78-d2d4-0f498bd2d6f5"
      },
      "outputs": [
        {
          "output_type": "execute_result",
          "data": {
            "text/plain": [
              "array([[12, 13, 14],\n",
              "       [15, 16, 17],\n",
              "       [18, 19, 20],\n",
              "       [21, 22, 23]])"
            ]
          },
          "metadata": {},
          "execution_count": 40
        }
      ],
      "source": [
        "a3"
      ]
    },
    {
      "cell_type": "code",
      "execution_count": null,
      "metadata": {
        "colab": {
          "base_uri": "https://localhost:8080/"
        },
        "id": "xG7HU0RgHQD-",
        "outputId": "876cd6e6-bfff-49d4-a19e-91ca834e8d33"
      },
      "outputs": [
        {
          "output_type": "execute_result",
          "data": {
            "text/plain": [
              "np.int64(15)"
            ]
          },
          "metadata": {},
          "execution_count": 41
        }
      ],
      "source": [
        "a3[1,0]"
      ]
    },
    {
      "cell_type": "code",
      "execution_count": null,
      "metadata": {
        "colab": {
          "base_uri": "https://localhost:8080/"
        },
        "id": "3EhcikSWHQKO",
        "outputId": "28c5ad4b-6833-42fa-d425-01730ab74091"
      },
      "outputs": [
        {
          "output_type": "execute_result",
          "data": {
            "text/plain": [
              "np.int64(16)"
            ]
          },
          "metadata": {},
          "execution_count": 42
        }
      ],
      "source": [
        "a3[1,1]"
      ]
    },
    {
      "cell_type": "code",
      "execution_count": null,
      "metadata": {
        "colab": {
          "base_uri": "https://localhost:8080/"
        },
        "id": "_cgU2A52HQO0",
        "outputId": "12da90b8-52cc-4dcd-87d7-7d392dae6754"
      },
      "outputs": [
        {
          "output_type": "execute_result",
          "data": {
            "text/plain": [
              "array([[92.,  3., 20.],\n",
              "       [29., 53., 42.],\n",
              "       [41., 27., 96.]])"
            ]
          },
          "metadata": {},
          "execution_count": 43
        }
      ],
      "source": [
        "a1"
      ]
    },
    {
      "cell_type": "code",
      "execution_count": null,
      "metadata": {
        "colab": {
          "base_uri": "https://localhost:8080/"
        },
        "id": "HnFM0Wa5IMw2",
        "outputId": "7871578e-c1d7-42ea-926e-989ac725cb14"
      },
      "outputs": [
        {
          "output_type": "execute_result",
          "data": {
            "text/plain": [
              "array([[41., 27., 96.]])"
            ]
          },
          "metadata": {},
          "execution_count": 44
        }
      ],
      "source": [
        "a1[2:5:2]"
      ]
    },
    {
      "cell_type": "code",
      "execution_count": null,
      "metadata": {
        "colab": {
          "base_uri": "https://localhost:8080/"
        },
        "id": "q55x6VoiKmpX",
        "outputId": "8aa342b3-810d-4c19-bc9a-dd81f4e6bf98"
      },
      "outputs": [
        {
          "output_type": "execute_result",
          "data": {
            "text/plain": [
              "array([[1, 3],\n",
              "       [5, 7]])"
            ]
          },
          "metadata": {},
          "execution_count": 45
        }
      ],
      "source": [
        "a2[0:2,1::2]"
      ]
    },
    {
      "cell_type": "code",
      "execution_count": null,
      "metadata": {
        "colab": {
          "base_uri": "https://localhost:8080/"
        },
        "id": "t2hA9ZJNJOBW",
        "outputId": "95d39dd5-b839-4e8c-9582-65f96719af74"
      },
      "outputs": [
        {
          "output_type": "execute_result",
          "data": {
            "text/plain": [
              "array([[ 1,  3],\n",
              "       [ 9, 11]])"
            ]
          },
          "metadata": {},
          "execution_count": 46
        }
      ],
      "source": [
        "a2[::2,1::2]"
      ]
    },
    {
      "cell_type": "code",
      "execution_count": null,
      "metadata": {
        "colab": {
          "base_uri": "https://localhost:8080/"
        },
        "id": "hubSAa0eKSCt",
        "outputId": "12020eca-951e-4c59-e606-bd814c519245"
      },
      "outputs": [
        {
          "output_type": "execute_result",
          "data": {
            "text/plain": [
              "array([4, 7])"
            ]
          },
          "metadata": {},
          "execution_count": 47
        }
      ],
      "source": [
        "a2[1,::3]"
      ]
    },
    {
      "cell_type": "code",
      "execution_count": null,
      "metadata": {
        "colab": {
          "base_uri": "https://localhost:8080/"
        },
        "id": "mi2B5NN9IM-B",
        "outputId": "5b57eaa7-d231-4fed-e7f0-e91af422cb50"
      },
      "outputs": [
        {
          "output_type": "execute_result",
          "data": {
            "text/plain": [
              "array([0, 1, 2, 3])"
            ]
          },
          "metadata": {},
          "execution_count": 48
        }
      ],
      "source": [
        "a2[0,:]"
      ]
    },
    {
      "cell_type": "code",
      "execution_count": null,
      "metadata": {
        "colab": {
          "base_uri": "https://localhost:8080/"
        },
        "id": "u7dQcPKpINDS",
        "outputId": "54ec96c2-8fed-413f-fd16-31a000584f10"
      },
      "outputs": [
        {
          "output_type": "execute_result",
          "data": {
            "text/plain": [
              "array([ 2,  6, 10])"
            ]
          },
          "metadata": {},
          "execution_count": 49
        }
      ],
      "source": [
        "a2[:,2]"
      ]
    },
    {
      "cell_type": "code",
      "execution_count": null,
      "metadata": {
        "colab": {
          "base_uri": "https://localhost:8080/"
        },
        "id": "GYjyXNKnINTA",
        "outputId": "7d504fe9-8055-45d6-c273-ff0931fdbc38"
      },
      "outputs": [
        {
          "output_type": "execute_result",
          "data": {
            "text/plain": [
              "array([[ 5,  6],\n",
              "       [ 9, 10]])"
            ]
          },
          "metadata": {},
          "execution_count": 50
        }
      ],
      "source": [
        "a2[1:,1:3]"
      ]
    },
    {
      "cell_type": "code",
      "execution_count": null,
      "metadata": {
        "colab": {
          "base_uri": "https://localhost:8080/"
        },
        "id": "Z-24y62tK7KO",
        "outputId": "ed46c342-5fdf-43f7-a464-b5d62816d007"
      },
      "outputs": [
        {
          "output_type": "execute_result",
          "data": {
            "text/plain": [
              "array([[[ 0,  1,  2],\n",
              "        [ 3,  4,  5],\n",
              "        [ 6,  7,  8]],\n",
              "\n",
              "       [[ 9, 10, 11],\n",
              "        [12, 13, 14],\n",
              "        [15, 16, 17]],\n",
              "\n",
              "       [[18, 19, 20],\n",
              "        [21, 22, 23],\n",
              "        [24, 25, 26]]])"
            ]
          },
          "metadata": {},
          "execution_count": 51
        }
      ],
      "source": [
        "a3 = np.arange(27).reshape(3,3,3)\n",
        "a3"
      ]
    },
    {
      "cell_type": "code",
      "execution_count": null,
      "metadata": {
        "colab": {
          "base_uri": "https://localhost:8080/"
        },
        "id": "DB1bM8NCMTub",
        "outputId": "1a6dde75-1c1e-4adb-9ace-441ccdfd5697"
      },
      "outputs": [
        {
          "output_type": "execute_result",
          "data": {
            "text/plain": [
              "array([[ 0,  2],\n",
              "       [18, 20]])"
            ]
          },
          "metadata": {},
          "execution_count": 52
        }
      ],
      "source": [
        "a3[::2,0,::2]"
      ]
    },
    {
      "cell_type": "code",
      "execution_count": null,
      "metadata": {
        "colab": {
          "base_uri": "https://localhost:8080/"
        },
        "id": "gPOgRWfNLxPF",
        "outputId": "0e4473ce-63b4-48e9-d375-e555c003602b"
      },
      "outputs": [
        {
          "output_type": "execute_result",
          "data": {
            "text/plain": [
              "array([[22, 23],\n",
              "       [25, 26]])"
            ]
          },
          "metadata": {},
          "execution_count": 53
        }
      ],
      "source": [
        "a3[2,1:,1:]"
      ]
    },
    {
      "cell_type": "code",
      "execution_count": null,
      "metadata": {
        "colab": {
          "base_uri": "https://localhost:8080/"
        },
        "id": "S3OJJAMXK7RV",
        "outputId": "e6956314-7dff-4ea5-953a-dbe21bff0e14"
      },
      "outputs": [
        {
          "output_type": "execute_result",
          "data": {
            "text/plain": [
              "array([3, 4, 5])"
            ]
          },
          "metadata": {},
          "execution_count": 54
        }
      ],
      "source": [
        "a3[0,1,:]"
      ]
    },
    {
      "cell_type": "markdown",
      "metadata": {
        "id": "dUv9qM1yuIKJ"
      },
      "source": [
        "### Iterating"
      ]
    },
    {
      "cell_type": "code",
      "execution_count": null,
      "metadata": {
        "colab": {
          "base_uri": "https://localhost:8080/"
        },
        "id": "lNgaCad6uKhm",
        "outputId": "8bb057ba-5035-4115-9f40-5e2cdb733cd0"
      },
      "outputs": [
        {
          "output_type": "stream",
          "name": "stdout",
          "text": [
            "[92.  3. 20.]\n",
            "[29. 53. 42.]\n",
            "[41. 27. 96.]\n"
          ]
        }
      ],
      "source": [
        "a1\n",
        "\n",
        "for i in a1:\n",
        "  print(i)"
      ]
    },
    {
      "cell_type": "code",
      "execution_count": null,
      "metadata": {
        "colab": {
          "base_uri": "https://localhost:8080/"
        },
        "id": "jNIsE0YFM6ZN",
        "outputId": "d43b9bbd-b6d7-4054-a3c5-d397f8db575b"
      },
      "outputs": [
        {
          "output_type": "execute_result",
          "data": {
            "text/plain": [
              "array([[ 0,  1,  2,  3],\n",
              "       [ 4,  5,  6,  7],\n",
              "       [ 8,  9, 10, 11]])"
            ]
          },
          "metadata": {},
          "execution_count": 56
        }
      ],
      "source": [
        "a2"
      ]
    },
    {
      "cell_type": "code",
      "execution_count": null,
      "metadata": {
        "colab": {
          "base_uri": "https://localhost:8080/"
        },
        "id": "B2Hk-zAONHTY",
        "outputId": "dd128773-9555-4b5b-ab04-86d2a2363eb9"
      },
      "outputs": [
        {
          "output_type": "stream",
          "name": "stdout",
          "text": [
            "[0 1 2 3]\n",
            "[4 5 6 7]\n",
            "[ 8  9 10 11]\n"
          ]
        }
      ],
      "source": [
        "for i in a2:\n",
        "  print(i)"
      ]
    },
    {
      "cell_type": "code",
      "execution_count": null,
      "metadata": {
        "colab": {
          "base_uri": "https://localhost:8080/"
        },
        "id": "8hfuC98qM-hC",
        "outputId": "a3d48416-e6f0-44bf-c76e-aef55537b342"
      },
      "outputs": [
        {
          "output_type": "execute_result",
          "data": {
            "text/plain": [
              "array([[[ 0,  1,  2],\n",
              "        [ 3,  4,  5],\n",
              "        [ 6,  7,  8]],\n",
              "\n",
              "       [[ 9, 10, 11],\n",
              "        [12, 13, 14],\n",
              "        [15, 16, 17]],\n",
              "\n",
              "       [[18, 19, 20],\n",
              "        [21, 22, 23],\n",
              "        [24, 25, 26]]])"
            ]
          },
          "metadata": {},
          "execution_count": 58
        }
      ],
      "source": [
        "a3"
      ]
    },
    {
      "cell_type": "code",
      "execution_count": null,
      "metadata": {
        "colab": {
          "base_uri": "https://localhost:8080/"
        },
        "id": "DsYEnw2ONOIy",
        "outputId": "e40741ce-7c19-4767-e113-f1e029a2252b"
      },
      "outputs": [
        {
          "output_type": "stream",
          "name": "stdout",
          "text": [
            "[[0 1 2]\n",
            " [3 4 5]\n",
            " [6 7 8]]\n",
            "[[ 9 10 11]\n",
            " [12 13 14]\n",
            " [15 16 17]]\n",
            "[[18 19 20]\n",
            " [21 22 23]\n",
            " [24 25 26]]\n"
          ]
        }
      ],
      "source": [
        "for i in a3:\n",
        "  print(i)"
      ]
    },
    {
      "cell_type": "code",
      "execution_count": null,
      "metadata": {
        "colab": {
          "base_uri": "https://localhost:8080/"
        },
        "id": "IuRJ1QiRNZRM",
        "outputId": "db8f2e77-6b40-4d96-a230-182efe22c6a4"
      },
      "outputs": [
        {
          "output_type": "stream",
          "name": "stdout",
          "text": [
            "0\n",
            "1\n",
            "2\n",
            "3\n",
            "4\n",
            "5\n",
            "6\n",
            "7\n",
            "8\n",
            "9\n",
            "10\n",
            "11\n",
            "12\n",
            "13\n",
            "14\n",
            "15\n",
            "16\n",
            "17\n",
            "18\n",
            "19\n",
            "20\n",
            "21\n",
            "22\n",
            "23\n",
            "24\n",
            "25\n",
            "26\n"
          ]
        }
      ],
      "source": [
        "for i in np.nditer(a3):\n",
        "  print(i)"
      ]
    },
    {
      "cell_type": "code",
      "execution_count": null,
      "metadata": {
        "colab": {
          "base_uri": "https://localhost:8080/"
        },
        "id": "DBIaUE8duQDz",
        "outputId": "516ea2c3-f8b3-441f-e267-7c5ce9f2b1d4"
      },
      "outputs": [
        {
          "output_type": "execute_result",
          "data": {
            "text/plain": [
              "array([[ 0,  4,  8],\n",
              "       [ 1,  5,  9],\n",
              "       [ 2,  6, 10],\n",
              "       [ 3,  7, 11]])"
            ]
          },
          "metadata": {},
          "execution_count": 61
        }
      ],
      "source": [
        "# Transpose\n",
        "np.transpose(a2)\n",
        "a2.T"
      ]
    },
    {
      "cell_type": "code",
      "execution_count": null,
      "metadata": {
        "colab": {
          "base_uri": "https://localhost:8080/"
        },
        "id": "IULUNn5OuQMT",
        "outputId": "8c76af39-5293-477b-adbe-513792fa1127"
      },
      "outputs": [
        {
          "output_type": "execute_result",
          "data": {
            "text/plain": [
              "array([ 0,  1,  2,  3,  4,  5,  6,  7,  8,  9, 10, 11, 12, 13, 14, 15, 16,\n",
              "       17, 18, 19, 20, 21, 22, 23, 24, 25, 26])"
            ]
          },
          "metadata": {},
          "execution_count": 62
        }
      ],
      "source": [
        "# ravel\n",
        "a3.ravel()"
      ]
    }
  ],
  "metadata": {
    "colab": {
      "provenance": [],
      "include_colab_link": true
    },
    "kernelspec": {
      "display_name": "learning",
      "language": "python",
      "name": "learning"
    },
    "language_info": {
      "name": "python",
      "version": "3.10.9"
    }
  },
  "nbformat": 4,
  "nbformat_minor": 0
}