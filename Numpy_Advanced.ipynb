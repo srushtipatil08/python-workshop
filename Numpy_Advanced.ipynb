{
  "cells": [
    {
      "cell_type": "markdown",
      "metadata": {
        "id": "view-in-github",
        "colab_type": "text"
      },
      "source": [
        "<a href=\"https://colab.research.google.com/github/srushtipatil08/python-workshop/blob/main/Numpy_Advanced.ipynb\" target=\"_parent\"><img src=\"https://colab.research.google.com/assets/colab-badge.svg\" alt=\"Open In Colab\"/></a>"
      ]
    },
    {
      "cell_type": "code",
      "execution_count": null,
      "metadata": {
        "colab": {
          "base_uri": "https://localhost:8080/"
        },
        "id": "-4YhV3HftJ19",
        "outputId": "bb2a8ccd-e3e4-4e40-b495-4e181576fe6f"
      },
      "outputs": [
        {
          "name": "stdout",
          "output_type": "stream",
          "text": [
            "1.7988603115081787\n"
          ]
        }
      ],
      "source": [
        "# speed\n",
        "# list\n",
        "a = [i for i in range(10000000)]\n",
        "b = [i for i in range(10000000,20000000) ]\n",
        "\n",
        "c = []\n",
        "import time\n",
        "\n",
        "start = time.time()\n",
        "for i in range(len(a)):\n",
        "    c.append(a[i] + b[i])\n",
        "print(time.time() - start)"
      ]
    },
    {
      "cell_type": "code",
      "execution_count": null,
      "metadata": {
        "colab": {
          "base_uri": "https://localhost:8080/"
        },
        "id": "Y49SyAAn8It6",
        "outputId": "b7a7e008-2efb-49ff-d333-ba077c970540"
      },
      "outputs": [
        {
          "name": "stdout",
          "output_type": "stream",
          "text": [
            "0.03307008743286133\n"
          ]
        }
      ],
      "source": [
        "# numpy\n",
        "import numpy as np\n",
        "a = np.arange(10000000)\n",
        "b = np.arange(10000000,20000000)\n",
        "import time\n",
        "start = time.time()\n",
        "c = a + b\n",
        "print(time.time()-start)"
      ]
    },
    {
      "cell_type": "code",
      "execution_count": null,
      "metadata": {
        "id": "0vOz-_hq4iqy"
      },
      "outputs": [],
      "source": [
        "# memory"
      ]
    },
    {
      "cell_type": "code",
      "source": [
        "import sys"
      ],
      "metadata": {
        "id": "bVpXjRYy4Kzd"
      },
      "execution_count": 1,
      "outputs": []
    },
    {
      "cell_type": "code",
      "source": [
        "import numpy as np"
      ],
      "metadata": {
        "id": "se3933hL4Qht"
      },
      "execution_count": 3,
      "outputs": []
    },
    {
      "cell_type": "code",
      "execution_count": 4,
      "metadata": {
        "colab": {
          "base_uri": "https://localhost:8080/"
        },
        "id": "uHkPvUa25qR0",
        "outputId": "b2fc081b-d78c-4afd-bb20-ee7ec4bcef3d"
      },
      "outputs": [
        {
          "output_type": "execute_result",
          "data": {
            "text/plain": [
              "80000112"
            ]
          },
          "metadata": {},
          "execution_count": 4
        }
      ],
      "source": [
        "a = np.arange(10000000)\n",
        "sys.getsizeof(a)\n",
        "# a.dtype"
      ]
    },
    {
      "cell_type": "code",
      "execution_count": null,
      "metadata": {
        "id": "c4GdbEvK5v82"
      },
      "outputs": [],
      "source": [
        "a = np.arange(10000000,dtype=np.int8) #with changed datatype\n",
        "sys.getsizeof(a)"
      ]
    },
    {
      "cell_type": "markdown",
      "metadata": {
        "id": "KOaGfVWL7czU"
      },
      "source": [
        "# Indexing and Slicing"
      ]
    },
    {
      "cell_type": "code",
      "execution_count": null,
      "metadata": {
        "id": "dSuGM72z6rxW"
      },
      "outputs": [],
      "source": [
        "#Slicing and indexing in 1d\n",
        "a = np.arange(24).reshape(6,4)\n",
        "a"
      ]
    },
    {
      "cell_type": "code",
      "execution_count": null,
      "metadata": {
        "id": "-eAH3uH97aay"
      },
      "outputs": [],
      "source": [
        "#indexing\n",
        "a[1,2] # search in 1st index row and 2 index column"
      ]
    },
    {
      "cell_type": "code",
      "execution_count": null,
      "metadata": {
        "id": "uHQv5gxq7qjd"
      },
      "outputs": [],
      "source": [
        "# Slicing\n",
        "a[1:3,1:3] # Conside rows from 1 to 3 index (3rd exclude) and rows from 1 to 3 index (3rd exclude)"
      ]
    },
    {
      "cell_type": "code",
      "execution_count": null,
      "metadata": {
        "id": "_VqQyjbN8QZF"
      },
      "outputs": [],
      "source": [
        "# Fancy Indexing\n",
        "a[:,[0,2,3]] #--> Consider all rows, but  only 0th 2nd and 3rd column"
      ]
    },
    {
      "cell_type": "code",
      "execution_count": null,
      "metadata": {
        "id": "NtVVpV3z9NQU"
      },
      "outputs": [],
      "source": [
        "# Boolean Indexing\n",
        "a1 = np.random.randint(1,100,24).reshape(6,4)\n",
        "a1"
      ]
    },
    {
      "cell_type": "code",
      "execution_count": null,
      "metadata": {
        "id": "Fyl77BBH9a-V"
      },
      "outputs": [],
      "source": [
        "# find all numbers greater than 50\n",
        "a1[a1 > 50]"
      ]
    },
    {
      "cell_type": "code",
      "execution_count": null,
      "metadata": {
        "id": "EakgyqXR9mkb"
      },
      "outputs": [],
      "source": [
        "[a1 > 50] #relational operation, conditional operation"
      ]
    },
    {
      "cell_type": "code",
      "execution_count": null,
      "metadata": {
        "id": "aHxpJlgS-HjC"
      },
      "outputs": [],
      "source": [
        "# find out even numbers\n",
        "a1[a1 % 2 == 0]"
      ]
    },
    {
      "cell_type": "code",
      "execution_count": null,
      "metadata": {
        "id": "PhlhE9sS_Q_X"
      },
      "outputs": [],
      "source": [
        "# find all numbers greater than 50 and are even\n",
        "\n",
        "a1[(a1 > 50) & (a1 % 2 == 0)]"
      ]
    },
    {
      "cell_type": "markdown",
      "metadata": {
        "id": "MVk2g163_XIF"
      },
      "source": [
        "# Broadcasting"
      ]
    },
    {
      "cell_type": "markdown",
      "metadata": {
        "id": "j6_n7IExCWkc"
      },
      "source": [
        "![Screenshot 2025-04-23 054329.png](data:image/png;base64,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)"
      ]
    },
    {
      "cell_type": "code",
      "execution_count": 28,
      "metadata": {
        "id": "Rdp23GRw_UBg",
        "colab": {
          "base_uri": "https://localhost:8080/"
        },
        "outputId": "67708d35-f2f7-4a34-85b7-8feb92e4bcb4"
      },
      "outputs": [
        {
          "output_type": "stream",
          "name": "stdout",
          "text": [
            "[0 1 2]\n",
            "5\n",
            "[5 6 7]\n"
          ]
        }
      ],
      "source": [
        "a = np.arange(3)\n",
        "b = 5\n",
        "\n",
        "print(a)\n",
        "print(b)\n",
        "\n",
        "print(a+b)"
      ]
    },
    {
      "cell_type": "code",
      "execution_count": null,
      "metadata": {
        "id": "MI14sFo6CySi"
      },
      "outputs": [],
      "source": [
        "# code for other 2 and show broadcasting\n",
        "\n"
      ]
    },
    {
      "cell_type": "code",
      "execution_count": null,
      "metadata": {
        "id": "3JUfiYF5C_pQ"
      },
      "outputs": [],
      "source": [
        "# Mathematical function\n",
        "a = np.arange(10)\n",
        "np.sin(a)"
      ]
    },
    {
      "cell_type": "code",
      "execution_count": null,
      "metadata": {
        "id": "S3h0pLwkDPkN"
      },
      "outputs": [],
      "source": [
        "# Mathematical function\n",
        "a = np.arange(10)\n",
        "np.sin(a)"
      ]
    },
    {
      "cell_type": "code",
      "execution_count": 36,
      "metadata": {
        "id": "OkVXRn5xElcB",
        "colab": {
          "base_uri": "https://localhost:8080/",
          "height": 176
        },
        "outputId": "39e67138-a116-49f2-86fe-e84733159e55"
      },
      "outputs": [
        {
          "output_type": "error",
          "ename": "NameError",
          "evalue": "name 'a3' is not defined",
          "traceback": [
            "\u001b[0;31m---------------------------------------------------------------------------\u001b[0m",
            "\u001b[0;31mNameError\u001b[0m                                 Traceback (most recent call last)",
            "\u001b[0;32m<ipython-input-36-167e1aa2375b>\u001b[0m in \u001b[0;36m<cell line: 0>\u001b[0;34m()\u001b[0m\n\u001b[1;32m      2\u001b[0m   \u001b[0;32mreturn\u001b[0m \u001b[0ma\u001b[0m\u001b[0;34m*\u001b[0m\u001b[0ma\u001b[0m\u001b[0;34m\u001b[0m\u001b[0;34m\u001b[0m\u001b[0m\n\u001b[1;32m      3\u001b[0m \u001b[0;34m\u001b[0m\u001b[0m\n\u001b[0;32m----> 4\u001b[0;31m \u001b[0msquare\u001b[0m\u001b[0;34m(\u001b[0m\u001b[0ma3\u001b[0m\u001b[0;34m)\u001b[0m\u001b[0;34m\u001b[0m\u001b[0;34m\u001b[0m\u001b[0m\n\u001b[0m",
            "\u001b[0;31mNameError\u001b[0m: name 'a3' is not defined"
          ]
        }
      ],
      "source": [
        "def square(a):\n",
        "  return a*a\n",
        "\n",
        "square(a3)"
      ]
    },
    {
      "cell_type": "markdown",
      "metadata": {
        "id": "n4nJ33iQFgRg"
      },
      "source": [
        "# Nan - Not a number / Missing values"
      ]
    },
    {
      "cell_type": "code",
      "execution_count": 33,
      "metadata": {
        "id": "8otH2B9HFQUG",
        "colab": {
          "base_uri": "https://localhost:8080/"
        },
        "outputId": "107dc750-1cc0-4546-be45-caf911ee2c6f"
      },
      "outputs": [
        {
          "output_type": "execute_result",
          "data": {
            "text/plain": [
              "array([ 1.,  2.,  3.,  4., nan,  6.])"
            ]
          },
          "metadata": {},
          "execution_count": 33
        }
      ],
      "source": [
        "# Working with missing values -> np.nan\n",
        "a1 = np.array([1,2,3,4,np.nan,6]) # always make the whole array elements a float object\n",
        "a1"
      ]
    },
    {
      "cell_type": "code",
      "execution_count": 34,
      "metadata": {
        "id": "R65SmfU6GDXG",
        "colab": {
          "base_uri": "https://localhost:8080/"
        },
        "outputId": "46167288-500e-4558-81ef-c537e15920bf"
      },
      "outputs": [
        {
          "output_type": "execute_result",
          "data": {
            "text/plain": [
              "array([1., 2., 3., 4., 6.])"
            ]
          },
          "metadata": {},
          "execution_count": 34
        }
      ],
      "source": [
        "a1[~np.isnan(a1)] # ~ (tilda is to negate or for negation) will not work with strings"
      ]
    },
    {
      "cell_type": "code",
      "execution_count": 35,
      "metadata": {
        "id": "5S2SujUzFziD",
        "colab": {
          "base_uri": "https://localhost:8080/"
        },
        "outputId": "f19f527a-012f-4105-e5b1-810c8b648735"
      },
      "outputs": [
        {
          "output_type": "execute_result",
          "data": {
            "text/plain": [
              "array(['1', '2', '3', '4', 'nan', '6'], dtype='<U21')"
            ]
          },
          "metadata": {},
          "execution_count": 35
        }
      ],
      "source": [
        "# Working with missing values -> np.nan\n",
        "a = np.array([1,2,3,4,'nan',6])\n",
        "a"
      ]
    },
    {
      "cell_type": "markdown",
      "metadata": {
        "id": "BgTsfeSPG8_0"
      },
      "source": [
        "# Plotting graphs"
      ]
    },
    {
      "cell_type": "code",
      "execution_count": 29,
      "metadata": {
        "collapsed": true,
        "id": "feF_B3zyG_Rq",
        "colab": {
          "base_uri": "https://localhost:8080/",
          "height": 447
        },
        "outputId": "00dd7f16-6f7b-4427-8302-ce15048a8921"
      },
      "outputs": [
        {
          "output_type": "execute_result",
          "data": {
            "text/plain": [
              "[<matplotlib.lines.Line2D at 0x78aae437b310>]"
            ]
          },
          "metadata": {},
          "execution_count": 29
        },
        {
          "output_type": "display_data",
          "data": {
            "text/plain": [
              "<Figure size 640x480 with 1 Axes>"
            ],
            "image/png": "[encoded data removed]"
          },
          "metadata": {}
        }
      ],
      "source": [
        "# plotting a 2D plot\n",
        "# x = y\n",
        "import matplotlib.pyplot as plt\n",
        "\n",
        "x = np.linspace(-10,10,100)\n",
        "y = x\n",
        "\n",
        "plt.plot(x,y)"
      ]
    },
    {
      "cell_type": "code",
      "execution_count": 30,
      "metadata": {
        "id": "aCen9FjXHAXn",
        "colab": {
          "base_uri": "https://localhost:8080/",
          "height": 465
        },
        "outputId": "6abc4d95-ca97-45c0-9b64-b0d791bdbd4a"
      },
      "outputs": [
        {
          "output_type": "stream",
          "name": "stdout",
          "text": [
            "[  0   1   4   9  16  25  36  49  64  81 100 121 144 169 196]\n"
          ]
        },
        {
          "output_type": "execute_result",
          "data": {
            "text/plain": [
              "[<matplotlib.lines.Line2D at 0x78aae438d390>]"
            ]
          },
          "metadata": {},
          "execution_count": 30
        },
        {
          "output_type": "display_data",
          "data": {
            "text/plain": [
              "<Figure size 640x480 with 1 Axes>"
            ],
            "image/png": "[encoded data removed]"
          },
          "metadata": {}
        }
      ],
      "source": [
        "def square(a):\n",
        "  return a*a\n",
        "\n",
        "g = np.arange(15)\n",
        "squared_g = square(g)\n",
        "print(squared_g)\n",
        "plt.plot(g, squared_g)"
      ]
    },
    {
      "cell_type": "code",
      "execution_count": 31,
      "metadata": {
        "id": "AteqUeWPHPSA",
        "colab": {
          "base_uri": "https://localhost:8080/",
          "height": 447
        },
        "outputId": "9725ba74-2f05-4d80-bd4c-025495a3d9b9"
      },
      "outputs": [
        {
          "output_type": "execute_result",
          "data": {
            "text/plain": [
              "[<matplotlib.lines.Line2D at 0x78aae414c690>]"
            ]
          },
          "metadata": {},
          "execution_count": 31
        },
        {
          "output_type": "display_data",
          "data": {
            "text/plain": [
              "<Figure size 640x480 with 1 Axes>"
            ],
            "image/png": "[encoded data removed]"
          },
          "metadata": {}
        }
      ],
      "source": [
        "# y = sin(x)\n",
        "x = np.linspace(-10,10,100)\n",
        "y = np.sin(x)\n",
        "\n",
        "plt.plot(x,y)"
      ]
    },
    {
      "cell_type": "code",
      "execution_count": 32,
      "metadata": {
        "id": "hvJkwchaHwhj",
        "colab": {
          "base_uri": "https://localhost:8080/",
          "height": 447
        },
        "outputId": "e436b6af-3641-41a1-b894-4d7bb8e46cd1"
      },
      "outputs": [
        {
          "output_type": "execute_result",
          "data": {
            "text/plain": [
              "[<matplotlib.lines.Line2D at 0x78aae4199e10>]"
            ]
          },
          "metadata": {},
          "execution_count": 32
        },
        {
          "output_type": "display_data",
          "data": {
            "text/plain": [
              "<Figure size 640x480 with 1 Axes>"
            ],
            "image/png": "[encoded data removed]"
          },
          "metadata": {}
        }
      ],
      "source": [
        "# sigmoid\n",
        "x = np.linspace(-10,10,100)\n",
        "y = 1/(1+np.exp(-x))\n",
        "\n",
        "plt.plot(x,y)"
      ]
    },
    {
      "cell_type": "markdown",
      "metadata": {
        "id": "ez16AYdpPe4O"
      },
      "source": [
        "# Proof of Numpy cant add elements in the original array it always makes a new copy"
      ]
    },
    {
      "cell_type": "code",
      "execution_count": null,
      "metadata": {
        "id": "BNAt8vyRH7oW"
      },
      "outputs": [],
      "source": [
        "\n",
        "a = [1,8,3,0]\n",
        "print(id(a))\n",
        "a.append(10)\n",
        "print(a)\n",
        "print(id(a))"
      ]
    },
    {
      "cell_type": "code",
      "execution_count": null,
      "metadata": {
        "id": "yuSzwgbsN92j"
      },
      "outputs": [],
      "source": [
        "d = np.array([1,8,3,0])\n",
        "print(id(d))\n",
        "print(id(np.append(d,10)))\n",
        "print(d)\n",
        "print(id(d))"
      ]
    },
    {
      "cell_type": "markdown",
      "metadata": {
        "id": "IAR6QYNMjprT"
      },
      "source": [
        "# Numpy Functions"
      ]
    },
    {
      "cell_type": "code",
      "execution_count": null,
      "metadata": {
        "id": "KY6W76ukjsZu"
      },
      "outputs": [],
      "source": [
        "# np.sort code\n",
        "import numpy as np\n",
        "a = np.random.randint(1,100,15)\n",
        "a"
      ]
    },
    {
      "cell_type": "code",
      "execution_count": null,
      "metadata": {
        "id": "ti8AKhoIj13a"
      },
      "outputs": [],
      "source": [
        "b = np.random.randint(1,100,24).reshape(6,4)\n",
        "b"
      ]
    },
    {
      "cell_type": "code",
      "execution_count": null,
      "metadata": {
        "id": "6PKZMxv4j3Bc"
      },
      "outputs": [],
      "source": [
        "np.sort(a)[::-1] # In descending order\n",
        "# np.sort(a)[::-2]"
      ]
    },
    {
      "cell_type": "code",
      "execution_count": null,
      "metadata": {
        "id": "JfGPk5EQkGhL"
      },
      "outputs": [],
      "source": [
        "np.sort(b,axis=0) # sorting acc to columns"
      ]
    },
    {
      "cell_type": "code",
      "execution_count": null,
      "metadata": {
        "id": "fZSt6Dgik6a1"
      },
      "outputs": [],
      "source": [
        "# append\n",
        "np.append(a,200)\n",
        "\n",
        "# show the proof"
      ]
    },
    {
      "cell_type": "code",
      "execution_count": null,
      "metadata": {
        "id": "t1yJ71crl0Tm"
      },
      "outputs": [],
      "source": [
        "b.shape[0]"
      ]
    },
    {
      "cell_type": "code",
      "execution_count": null,
      "metadata": {
        "id": "v_rDqwRlmlgl"
      },
      "outputs": [],
      "source": [
        "np.append(b,np.random.random((b.shape[0],1)),axis=1)\n"
      ]
    },
    {
      "cell_type": "code",
      "execution_count": 27,
      "metadata": {
        "id": "hmB9Tvldm9Sn",
        "colab": {
          "base_uri": "https://localhost:8080/"
        },
        "outputId": "610e3667-08c2-4cdb-b3cc-18a75a70bcec"
      },
      "outputs": [
        {
          "output_type": "stream",
          "name": "stdout",
          "text": [
            "[[0 1 2]\n",
            " [3 4 5]]\n",
            "[[ 6  7  8]\n",
            " [ 9 10 11]]\n"
          ]
        }
      ],
      "source": [
        "# concatenate\n",
        "c = np.arange(6).reshape(2,3)\n",
        "d = np.arange(6,12).reshape(2,3)\n",
        "\n",
        "print(c)\n",
        "print(d)"
      ]
    },
    {
      "cell_type": "code",
      "execution_count": 25,
      "metadata": {
        "id": "xGlOMa_prxI8",
        "colab": {
          "base_uri": "https://localhost:8080/"
        },
        "outputId": "16e4d12c-b5ee-4d75-8c31-8c31079c7daa"
      },
      "outputs": [
        {
          "output_type": "execute_result",
          "data": {
            "text/plain": [
              "array([1, 2, 3, 4, 5, 6])"
            ]
          },
          "metadata": {},
          "execution_count": 25
        }
      ],
      "source": [
        "e = np.array([1,1,2,2,3,3,4,4,5,5,6,6])\n",
        "np.unique(e)"
      ]
    },
    {
      "cell_type": "code",
      "execution_count": 23,
      "metadata": {
        "id": "YNIUcW33r9Sn",
        "colab": {
          "base_uri": "https://localhost:8080/"
        },
        "outputId": "03abddd4-8dc8-45d9-9dd6-20f47755654f"
      },
      "outputs": [
        {
          "output_type": "execute_result",
          "data": {
            "text/plain": [
              "(10000000,)"
            ]
          },
          "metadata": {},
          "execution_count": 23
        }
      ],
      "source": [
        "# Expand dimensions\n",
        "# (1,15) is equivalent to (15,)\n",
        "a.shape"
      ]
    },
    {
      "cell_type": "code",
      "execution_count": 24,
      "metadata": {
        "id": "_v8d-ZLzsbIE",
        "colab": {
          "base_uri": "https://localhost:8080/"
        },
        "outputId": "721243e3-a591-44e9-af72-23a2eaa5270c"
      },
      "outputs": [
        {
          "output_type": "execute_result",
          "data": {
            "text/plain": [
              "array([      0,       1,       2, ..., 9999997, 9999998, 9999999])"
            ]
          },
          "metadata": {},
          "execution_count": 24
        }
      ],
      "source": [
        "# np.where\n",
        "a"
      ]
    },
    {
      "cell_type": "code",
      "execution_count": 19,
      "metadata": {
        "id": "JjtLgsY9s3Ph",
        "colab": {
          "base_uri": "https://localhost:8080/"
        },
        "outputId": "b3c1b8a8-3b87-4b8f-d18f-dcdfa723440e"
      },
      "outputs": [
        {
          "output_type": "execute_result",
          "data": {
            "text/plain": [
              "array([     51,      52,      53, ..., 9999997, 9999998, 9999999])"
            ]
          },
          "metadata": {},
          "execution_count": 19
        }
      ],
      "source": [
        "a[a>50] # gives arrays"
      ]
    },
    {
      "cell_type": "code",
      "execution_count": 20,
      "metadata": {
        "id": "VJsir9STs5z7",
        "colab": {
          "base_uri": "https://localhost:8080/"
        },
        "outputId": "93bb6787-4bd1-4d6e-ab5c-b62e98e08c48"
      },
      "outputs": [
        {
          "output_type": "execute_result",
          "data": {
            "text/plain": [
              "(array([     51,      52,      53, ..., 9999997, 9999998, 9999999]),)"
            ]
          },
          "metadata": {},
          "execution_count": 20
        }
      ],
      "source": [
        "# np.where gives indices\n",
        "np.where(a>50)"
      ]
    },
    {
      "cell_type": "code",
      "execution_count": 21,
      "metadata": {
        "id": "gR9H0ZFUtHtK",
        "colab": {
          "base_uri": "https://localhost:8080/"
        },
        "outputId": "187ffd44-f592-4052-a899-0411ce2daa2d"
      },
      "outputs": [
        {
          "output_type": "execute_result",
          "data": {
            "text/plain": [
              "array([0, 1, 2, ..., 0, 0, 0])"
            ]
          },
          "metadata": {},
          "execution_count": 21
        }
      ],
      "source": [
        "# also use to replace\n",
        "# np.where(condition, value_if_true, value_if_false)\n",
        "# replace all values > 50 with 0\n",
        "np.where(a>50,0,a)"
      ]
    },
    {
      "cell_type": "code",
      "execution_count": 6,
      "metadata": {
        "id": "36KApIL7taHh",
        "colab": {
          "base_uri": "https://localhost:8080/"
        },
        "outputId": "c4505074-f860-45a6-e4b6-04b754efff13"
      },
      "outputs": [
        {
          "output_type": "execute_result",
          "data": {
            "text/plain": [
              "array([      0,       1,       0, ..., 9999997,       0, 9999999])"
            ]
          },
          "metadata": {},
          "execution_count": 6
        }
      ],
      "source": [
        "np.where(a%2 == 0,0,a)"
      ]
    },
    {
      "cell_type": "code",
      "execution_count": 7,
      "metadata": {
        "id": "cvzvlGK-tfIa",
        "colab": {
          "base_uri": "https://localhost:8080/"
        },
        "outputId": "d46052f9-43f6-4854-b1ae-6adf0cb8b42d"
      },
      "outputs": [
        {
          "output_type": "stream",
          "name": "stdout",
          "text": [
            "[      0       1       2 ... 9999997 9999998 9999999]\n"
          ]
        },
        {
          "output_type": "execute_result",
          "data": {
            "text/plain": [
              "np.int64(9999999)"
            ]
          },
          "metadata": {},
          "execution_count": 7
        }
      ],
      "source": [
        "#argmax\n",
        "print(a)\n",
        "np.argmax(a)"
      ]
    },
    {
      "cell_type": "code",
      "execution_count": 8,
      "metadata": {
        "id": "UsHAuSdbtnpr",
        "colab": {
          "base_uri": "https://localhost:8080/"
        },
        "outputId": "0e2125c5-fd28-4ae1-8a62-5ce1e94dd0e1"
      },
      "outputs": [
        {
          "output_type": "stream",
          "name": "stdout",
          "text": [
            "[      0       1       2 ... 9999997 9999998 9999999]\n"
          ]
        },
        {
          "output_type": "execute_result",
          "data": {
            "text/plain": [
              "np.int64(0)"
            ]
          },
          "metadata": {},
          "execution_count": 8
        }
      ],
      "source": [
        "print(a)\n",
        "np.argmin(a)"
      ]
    },
    {
      "cell_type": "code",
      "execution_count": 10,
      "metadata": {
        "id": "9z9sbjM5tyYM",
        "colab": {
          "base_uri": "https://localhost:8080/"
        },
        "outputId": "65f86597-8f22-47b3-a23d-c23eb6199f9e"
      },
      "outputs": [
        {
          "output_type": "stream",
          "name": "stdout",
          "text": [
            "[      0       1       2 ... 9999997 9999998 9999999]\n"
          ]
        },
        {
          "output_type": "execute_result",
          "data": {
            "text/plain": [
              "np.int64(9999999)"
            ]
          },
          "metadata": {},
          "execution_count": 10
        }
      ],
      "source": [
        "print(a)\n",
        "np.argmax(a, axis=0)"
      ]
    },
    {
      "cell_type": "code",
      "execution_count": 16,
      "metadata": {
        "colab": {
          "base_uri": "https://localhost:8080/"
        },
        "id": "tbXfIUCHuZJv",
        "outputId": "7771d1c7-ce2c-4e62-e45a-e17caa776f43"
      },
      "outputs": [
        {
          "output_type": "execute_result",
          "data": {
            "text/plain": [
              "array([      0,       1,       2, ..., 9999997, 9999998, 9999999])"
            ]
          },
          "metadata": {},
          "execution_count": 16
        }
      ],
      "source": [
        "# Cumulative sum\n",
        "a"
      ]
    },
    {
      "cell_type": "code",
      "execution_count": 15,
      "metadata": {
        "colab": {
          "base_uri": "https://localhost:8080/"
        },
        "id": "h19U8F9FugMx",
        "outputId": "1a0f34ec-255a-4893-e623-217abefef0d8"
      },
      "outputs": [
        {
          "output_type": "execute_result",
          "data": {
            "text/plain": [
              "array([             0,              1,              3, ...,\n",
              "       49999975000003, 49999985000001, 49999995000000])"
            ]
          },
          "metadata": {},
          "execution_count": 15
        }
      ],
      "source": [
        "np.cumsum(a)"
      ]
    },
    {
      "cell_type": "code",
      "execution_count": 18,
      "metadata": {
        "id": "2ijAn9yTummc"
      },
      "outputs": [],
      "source": [
        "# take array b and perform cumsum keeping axis 0 and 1"
      ]
    },
    {
      "cell_type": "code",
      "source": [],
      "metadata": {
        "id": "ffYdRjTc49dK"
      },
      "execution_count": null,
      "outputs": []
    }
  ],
  "metadata": {
    "colab": {
      "provenance": [],
      "include_colab_link": true
    },
    "kernelspec": {
      "display_name": "Python 3",
      "name": "python3"
    },
    "language_info": {
      "name": "python"
    }
  },
  "nbformat": 4,
  "nbformat_minor": 0
}